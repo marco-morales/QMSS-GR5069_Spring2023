{
 "cells": [
  {
   "cell_type": "markdown",
   "metadata": {},
   "source": [
    "## Missing Data and Imputation\n",
    "Missing data is one of the most prevalent problems when you’re dealing with data, and it can be a particularly problematic one when you’re trying to fit models or extract meaningful information from the data. This demonstration will (a) simulate data missingness that is **Missing at Random (MAR)** and (b) illustrate how to address this type of data missingness.\n",
    "\n",
    "As discussed in class, there’s nothing to do when data is **Missing Not at Random (MNAR)** because the probability of missingness is conditional on observed and unobserved data. Data that is **Missing Completely at Random (MCAR)** is imputable because the missingness follows the exact same conditional distributions as the observed data, and that makes it a not very interesting case. But data that is **Missing at Random (MAR)** where the probability of missingness depends only on observed data is an interesting and tractable one.\n",
    "\n",
    "### Missing Data\n",
    "Let start with a sample dataset, the [Boston Housing dataset](https://archive.ics.uci.edu/ml/machine-learning-databases/housing/) in the ```scikit-learn``` package. The dataset does not have any missing data. For illustration purposes, we will impose some **MAR** missingness and then apply some imputation techniques to show how well we can recover the original distributions.\n",
    "\n"
   ]
  },
  {
   "cell_type": "markdown",
   "metadata": {},
   "source": [
    "**Note**: Please install the ```missingno``` library using the command\n",
    "```!pip install missingno```."
   ]
  },
  {
   "cell_type": "code",
   "execution_count": null,
   "metadata": {},
   "outputs": [],
   "source": [
    "!pip install missingno"
   ]
  },
  {
   "cell_type": "code",
   "execution_count": 1,
   "metadata": {},
   "outputs": [],
   "source": [
    "# load all packages that will be needed\n",
    "import pandas as pd\n",
    "import numpy as np\n",
    "import sklearn\n",
    "import missingno as msno\n",
    "from sklearn.impute import KNNImputer\n",
    "from sklearn.ensemble import ExtraTreesRegressor\n",
    "from sklearn.experimental import enable_iterative_imputer\n",
    "from sklearn.impute import IterativeImputer\n",
    "from sklearn.linear_model import BayesianRidge\n",
    "\n",
    "\n",
    "\n",
    "#visualization libraries\n",
    "%matplotlib inline\n",
    "import matplotlib.pyplot as plt\n",
    "import seaborn as sns"
   ]
  },
  {
   "cell_type": "code",
   "execution_count": 2,
   "metadata": {},
   "outputs": [],
   "source": [
    "# Boston Housing dataset\n",
    "from sklearn import datasets\n",
    "boston = datasets.load_boston()"
   ]
  },
  {
   "cell_type": "code",
   "execution_count": 3,
   "metadata": {},
   "outputs": [],
   "source": [
    "type(boston) #Bunch\n",
    "from sklearn.utils import Bunch"
   ]
  },
  {
   "cell_type": "code",
   "execution_count": 4,
   "metadata": {},
   "outputs": [
    {
     "data": {
      "text/plain": [
       "array([[6.3200e-03, 1.8000e+01, 2.3100e+00, ..., 1.5300e+01, 3.9690e+02,\n",
       "        4.9800e+00],\n",
       "       [2.7310e-02, 0.0000e+00, 7.0700e+00, ..., 1.7800e+01, 3.9690e+02,\n",
       "        9.1400e+00],\n",
       "       [2.7290e-02, 0.0000e+00, 7.0700e+00, ..., 1.7800e+01, 3.9283e+02,\n",
       "        4.0300e+00],\n",
       "       ...,\n",
       "       [6.0760e-02, 0.0000e+00, 1.1930e+01, ..., 2.1000e+01, 3.9690e+02,\n",
       "        5.6400e+00],\n",
       "       [1.0959e-01, 0.0000e+00, 1.1930e+01, ..., 2.1000e+01, 3.9345e+02,\n",
       "        6.4800e+00],\n",
       "       [4.7410e-02, 0.0000e+00, 1.1930e+01, ..., 2.1000e+01, 3.9690e+02,\n",
       "        7.8800e+00]])"
      ]
     },
     "execution_count": 4,
     "metadata": {},
     "output_type": "execute_result"
    }
   ],
   "source": [
    "boston['data']"
   ]
  },
  {
   "cell_type": "code",
   "execution_count": 5,
   "metadata": {},
   "outputs": [
    {
     "data": {
      "text/plain": [
       "array(['CRIM', 'ZN', 'INDUS', 'CHAS', 'NOX', 'RM', 'AGE', 'DIS', 'RAD',\n",
       "       'TAX', 'PTRATIO', 'B', 'LSTAT'], dtype='<U7')"
      ]
     },
     "execution_count": 5,
     "metadata": {},
     "output_type": "execute_result"
    }
   ],
   "source": [
    "boston['feature_names']"
   ]
  },
  {
   "cell_type": "code",
   "execution_count": 6,
   "metadata": {},
   "outputs": [
    {
     "data": {
      "text/html": [
       "<div>\n",
       "<style scoped>\n",
       "    .dataframe tbody tr th:only-of-type {\n",
       "        vertical-align: middle;\n",
       "    }\n",
       "\n",
       "    .dataframe tbody tr th {\n",
       "        vertical-align: top;\n",
       "    }\n",
       "\n",
       "    .dataframe thead th {\n",
       "        text-align: right;\n",
       "    }\n",
       "</style>\n",
       "<table border=\"1\" class=\"dataframe\">\n",
       "  <thead>\n",
       "    <tr style=\"text-align: right;\">\n",
       "      <th></th>\n",
       "      <th>CRIM</th>\n",
       "      <th>ZN</th>\n",
       "      <th>INDUS</th>\n",
       "      <th>CHAS</th>\n",
       "      <th>NOX</th>\n",
       "      <th>RM</th>\n",
       "      <th>AGE</th>\n",
       "      <th>DIS</th>\n",
       "      <th>RAD</th>\n",
       "      <th>TAX</th>\n",
       "      <th>PTRATIO</th>\n",
       "      <th>B</th>\n",
       "      <th>LSTAT</th>\n",
       "    </tr>\n",
       "  </thead>\n",
       "  <tbody>\n",
       "    <tr>\n",
       "      <td>0</td>\n",
       "      <td>0.00632</td>\n",
       "      <td>18.0</td>\n",
       "      <td>2.31</td>\n",
       "      <td>0.0</td>\n",
       "      <td>0.538</td>\n",
       "      <td>6.575</td>\n",
       "      <td>65.2</td>\n",
       "      <td>4.0900</td>\n",
       "      <td>1.0</td>\n",
       "      <td>296.0</td>\n",
       "      <td>15.3</td>\n",
       "      <td>396.90</td>\n",
       "      <td>4.98</td>\n",
       "    </tr>\n",
       "    <tr>\n",
       "      <td>1</td>\n",
       "      <td>0.02731</td>\n",
       "      <td>0.0</td>\n",
       "      <td>7.07</td>\n",
       "      <td>0.0</td>\n",
       "      <td>0.469</td>\n",
       "      <td>6.421</td>\n",
       "      <td>78.9</td>\n",
       "      <td>4.9671</td>\n",
       "      <td>2.0</td>\n",
       "      <td>242.0</td>\n",
       "      <td>17.8</td>\n",
       "      <td>396.90</td>\n",
       "      <td>9.14</td>\n",
       "    </tr>\n",
       "    <tr>\n",
       "      <td>2</td>\n",
       "      <td>0.02729</td>\n",
       "      <td>0.0</td>\n",
       "      <td>7.07</td>\n",
       "      <td>0.0</td>\n",
       "      <td>0.469</td>\n",
       "      <td>7.185</td>\n",
       "      <td>61.1</td>\n",
       "      <td>4.9671</td>\n",
       "      <td>2.0</td>\n",
       "      <td>242.0</td>\n",
       "      <td>17.8</td>\n",
       "      <td>392.83</td>\n",
       "      <td>4.03</td>\n",
       "    </tr>\n",
       "    <tr>\n",
       "      <td>3</td>\n",
       "      <td>0.03237</td>\n",
       "      <td>0.0</td>\n",
       "      <td>2.18</td>\n",
       "      <td>0.0</td>\n",
       "      <td>0.458</td>\n",
       "      <td>6.998</td>\n",
       "      <td>45.8</td>\n",
       "      <td>6.0622</td>\n",
       "      <td>3.0</td>\n",
       "      <td>222.0</td>\n",
       "      <td>18.7</td>\n",
       "      <td>394.63</td>\n",
       "      <td>2.94</td>\n",
       "    </tr>\n",
       "    <tr>\n",
       "      <td>4</td>\n",
       "      <td>0.06905</td>\n",
       "      <td>0.0</td>\n",
       "      <td>2.18</td>\n",
       "      <td>0.0</td>\n",
       "      <td>0.458</td>\n",
       "      <td>7.147</td>\n",
       "      <td>54.2</td>\n",
       "      <td>6.0622</td>\n",
       "      <td>3.0</td>\n",
       "      <td>222.0</td>\n",
       "      <td>18.7</td>\n",
       "      <td>396.90</td>\n",
       "      <td>5.33</td>\n",
       "    </tr>\n",
       "  </tbody>\n",
       "</table>\n",
       "</div>"
      ],
      "text/plain": [
       "      CRIM    ZN  INDUS  CHAS    NOX     RM   AGE     DIS  RAD    TAX  \\\n",
       "0  0.00632  18.0   2.31   0.0  0.538  6.575  65.2  4.0900  1.0  296.0   \n",
       "1  0.02731   0.0   7.07   0.0  0.469  6.421  78.9  4.9671  2.0  242.0   \n",
       "2  0.02729   0.0   7.07   0.0  0.469  7.185  61.1  4.9671  2.0  242.0   \n",
       "3  0.03237   0.0   2.18   0.0  0.458  6.998  45.8  6.0622  3.0  222.0   \n",
       "4  0.06905   0.0   2.18   0.0  0.458  7.147  54.2  6.0622  3.0  222.0   \n",
       "\n",
       "   PTRATIO       B  LSTAT  \n",
       "0     15.3  396.90   4.98  \n",
       "1     17.8  396.90   9.14  \n",
       "2     17.8  392.83   4.03  \n",
       "3     18.7  394.63   2.94  \n",
       "4     18.7  396.90   5.33  "
      ]
     },
     "execution_count": 6,
     "metadata": {},
     "output_type": "execute_result"
    }
   ],
   "source": [
    "#Load data into a dataframe\n",
    "df = pd.DataFrame(data=boston['data'], columns=boston['feature_names'])\n",
    "df.head()"
   ]
  },
  {
   "cell_type": "markdown",
   "metadata": {},
   "source": [
    "### Simulate Missingness\n",
    "\n",
    "As you can see, the Boston Housing dataset has no missingness."
   ]
  },
  {
   "cell_type": "code",
   "execution_count": 7,
   "metadata": {},
   "outputs": [
    {
     "data": {
      "text/plain": [
       "CRIM       0\n",
       "ZN         0\n",
       "INDUS      0\n",
       "CHAS       0\n",
       "NOX        0\n",
       "RM         0\n",
       "AGE        0\n",
       "DIS        0\n",
       "RAD        0\n",
       "TAX        0\n",
       "PTRATIO    0\n",
       "B          0\n",
       "LSTAT      0\n",
       "dtype: int64"
      ]
     },
     "execution_count": 7,
     "metadata": {},
     "output_type": "execute_result"
    }
   ],
   "source": [
    "#No missing values\n",
    "df.isnull().sum()"
   ]
  },
  {
   "cell_type": "code",
   "execution_count": 8,
   "metadata": {},
   "outputs": [],
   "source": [
    "#Keep the original data\n",
    "MAR_BostonHousing = df.copy()"
   ]
  },
  {
   "cell_type": "markdown",
   "metadata": {},
   "source": [
    "Now, we can proceed to create some data missingness that is conditional on observed values in the same dataset for a couple of variables."
   ]
  },
  {
   "cell_type": "code",
   "execution_count": 9,
   "metadata": {},
   "outputs": [],
   "source": [
    "# A function for MAR\n",
    "import random\n",
    "\n",
    "def MAR_fun(var1, var2, prop):\n",
    "    #introduce random noise\n",
    "    random.seed(9348)\n",
    "    noise = var1 + np.random.normal(0.0, 0.5, len(var1))\n",
    "    #pattern of missingness\n",
    "    pattern = np.repeat(0, len(var1))\n",
    "    #Set a cut-off value\n",
    "    cutoff = np.quantile(noise, prop)\n",
    "    pattern[noise < cutoff] = 1\n",
    "    var2[pattern == 0] = np.nan\n",
    "    return var2\n",
    "\n"
   ]
  },
  {
   "cell_type": "markdown",
   "metadata": {},
   "source": [
    "First, we impose missingness on ```dis``` (weighted distances to five Boston employment centres) conditional on ```age``` (proportion of owner-occupied units built prior to 1940)."
   ]
  },
  {
   "cell_type": "code",
   "execution_count": 10,
   "metadata": {
    "scrolled": true
   },
   "outputs": [],
   "source": [
    "MAR_BostonHousing['DIS'] = MAR_fun(MAR_BostonHousing['AGE'], MAR_BostonHousing['DIS'], 0.85)"
   ]
  },
  {
   "cell_type": "code",
   "execution_count": 11,
   "metadata": {},
   "outputs": [],
   "source": [
    "#Since Matplotlib does not plot missing values, we would have to create a function that fills dummy variables into\n",
    "#the null values of the dataframe\n",
    "\n",
    "from numpy.random import rand\n",
    "\n",
    "def fill_dummy_values(df, scaling_factor):\n",
    "    #create copy of dataframe\n",
    "    df_dummy = df.copy(deep = True)\n",
    "    # Iterate over each column\n",
    "    for col in df_dummy:\n",
    "        \n",
    "        #get column, column missing values and range\n",
    "        col = df_dummy[col]\n",
    "        col_null = col.isnull()\n",
    "        num_nulls = col_null.sum()\n",
    "        col_range = col.max() - col.min()\n",
    "        \n",
    "        #Shift and scale dummy values\n",
    "        dummy_values = (rand(num_nulls) - 2)\n",
    "        dummy_values = dummy_values * scaling_factor * col_range + col.min()\n",
    "        \n",
    "        #Return dummy values\n",
    "        col[col_null] = dummy_values\n",
    "    return df_dummy\n"
   ]
  },
  {
   "cell_type": "code",
   "execution_count": 12,
   "metadata": {},
   "outputs": [
    {
     "data": {
      "text/plain": [
       "<matplotlib.legend.Legend at 0x129c81fd0>"
      ]
     },
     "execution_count": 12,
     "metadata": {},
     "output_type": "execute_result"
    },
    {
     "data": {
      "image/png": "[encoded data removed]",
      "text/plain": [
       "<Figure size 864x576 with 2 Axes>"
      ]
     },
     "metadata": {
      "needs_background": "light"
     },
     "output_type": "display_data"
    }
   ],
   "source": [
    "#create dummy dataframe to fill null values with dummy variables\n",
    "MAR_BH_dummy = fill_dummy_values(MAR_BostonHousing, 0.075)\n",
    "\n",
    "#Get missing values for coloring\n",
    "nullity = MAR_BostonHousing['DIS'].isnull()\n",
    "\n",
    "#Generate Scatter plot\n",
    "fig, ax = plt.subplots()\n",
    "MAR_BH_dummy.plot(x = 'AGE', y = 'DIS', kind = 'scatter', alpha = 0.5, c = nullity, cmap = 'rainbow', figsize=(12,8), grid = True, legend = True, ax = ax)\n",
    "ax.legend(['Not Missing'])\n"
   ]
  },
  {
   "cell_type": "markdown",
   "metadata": {},
   "source": [
    "Then, we impose missingness on ```nox``` (nitric oxides concentration) conditional on tax (full-value property-tax rate per $10,000)."
   ]
  },
  {
   "cell_type": "code",
   "execution_count": 13,
   "metadata": {},
   "outputs": [],
   "source": [
    "MAR_BostonHousing['NOX'] = MAR_fun(MAR_BostonHousing['TAX'], MAR_BostonHousing['NOX'], 0.90)"
   ]
  },
  {
   "cell_type": "code",
   "execution_count": 14,
   "metadata": {},
   "outputs": [
    {
     "data": {
      "text/plain": [
       "<matplotlib.legend.Legend at 0x12bff6490>"
      ]
     },
     "execution_count": 14,
     "metadata": {},
     "output_type": "execute_result"
    },
    {
     "data": {
      "image/png": "[encoded data removed]",
      "text/plain": [
       "<Figure size 864x576 with 2 Axes>"
      ]
     },
     "metadata": {
      "needs_background": "light"
     },
     "output_type": "display_data"
    }
   ],
   "source": [
    "#Get missing values for coloring\n",
    "nullity_2 = MAR_BostonHousing['NOX'].isnull()\n",
    "\n",
    "#Generate Scatter plot\n",
    "fig, ax = plt.subplots()\n",
    "MAR_BH_dummy.plot(x = 'TAX', y = 'NOX', kind = 'scatter', alpha = 0.5, c = nullity_2, cmap = 'rainbow', figsize=(12,8), grid = True, legend = True, ax = ax)\n",
    "ax.legend(['Not Missing'])"
   ]
  },
  {
   "cell_type": "markdown",
   "metadata": {},
   "source": [
    "### Missing Data Imputation\n",
    "This is not usually the case, but we know that missingess only depends on observed values in the dataset, so **MAR** is the appropriate assumption. In real cases, it is mostly an assumption based on some theoretical elaboration based on expert knowledge about the dataset.\n",
    "\n",
    "Since we know we can use information in the dataset to “complete” our dataset, we can illustrate some common techniques to do it.\n",
    "\n",
    "#### Mean Imputation\n",
    "\n",
    "It is rather common that people spend little time thinking about the most appropriate imputation method to use. It is not unusual that missing values are imputed with the mean value for that variable. It is very common because it will not alter the mean value of the variable. It is probably not a very good alternative because, depending on the missingness in this variable, it will tend to shrink variability towards the mean. It is also possible that a better imputation (possible different from an unconditional mean) can be achieved with methods that take more information into consideration to produce plausible values for this variable."
   ]
  },
  {
   "cell_type": "code",
   "execution_count": 15,
   "metadata": {},
   "outputs": [],
   "source": [
    "mean_MAR_BH = MAR_BostonHousing.copy()\n",
    "mean_MAR_BH['DIS'].fillna(mean_MAR_BH['DIS'].mean(), inplace = True) #replace missing values with the mean\n",
    "mean_MAR_BH['NOX'].fillna(mean_MAR_BH['NOX'].mean(), inplace = True) #replace missing values with the mean"
   ]
  },
  {
   "cell_type": "markdown",
   "metadata": {},
   "source": [
    "### Multiple Imputation with Chained Equations (MICE)\n",
    "\n",
    "A more robust alternative that takes more information into consideration is one done through chained equations. This is an iterative process that starts by assigning start values to all missing data, then picks a variable and uses all other variables to predict its missing values and iterates until the imputations converge to a joint distribution. The chained equations approach is flexible because it allows for different predictors and models to be used for different variables.\n",
    "\n",
    "In addition, multiple imputation produces ```m < 1``` datasets that preserve the original data but contain plausible values for each missing value from the predictive posterior distribution. This characteristic alone, incorporates our uncertainty about the missing values and can allow us to estimate variances more appropriately.\n",
    "\n",
    "\n",
    "\n"
   ]
  },
  {
   "cell_type": "code",
   "execution_count": 16,
   "metadata": {},
   "outputs": [
    {
     "data": {
      "text/plain": [
       "<matplotlib.axes._subplots.AxesSubplot at 0x12c0c3490>"
      ]
     },
     "execution_count": 16,
     "metadata": {},
     "output_type": "execute_result"
    },
    {
     "data": {
      "image/png": "[encoded data removed]",
      "text/plain": [
       "<Figure size 1728x720 with 3 Axes>"
      ]
     },
     "metadata": {
      "needs_background": "light"
     },
     "output_type": "display_data"
    }
   ],
   "source": [
    "mice_MAR_BH = MAR_BostonHousing.copy()\n",
    "msno.bar(mice_MAR_BH, color = 'green') #bar plot"
   ]
  },
  {
   "cell_type": "code",
   "execution_count": 17,
   "metadata": {},
   "outputs": [
    {
     "data": {
      "text/plain": [
       "CRIM        0\n",
       "ZN          0\n",
       "INDUS       0\n",
       "CHAS        0\n",
       "NOX        51\n",
       "RM          0\n",
       "AGE         0\n",
       "DIS        76\n",
       "RAD         0\n",
       "TAX         0\n",
       "PTRATIO     0\n",
       "B           0\n",
       "LSTAT       0\n",
       "dtype: int64"
      ]
     },
     "execution_count": 17,
     "metadata": {},
     "output_type": "execute_result"
    }
   ],
   "source": [
    "mice_MAR_BH.isnull().sum()"
   ]
  },
  {
   "cell_type": "markdown",
   "metadata": {},
   "source": [
    "We use the missingno package here. Note from above that msno.bar() function returns a bar chart with missingness pattern. We learn that there are 404 observations with no missing values. 51 observations have missingness in ```dis```, 26 observations have missingness on ```nox```, and 25 observations have missing values both in ```dis``` and ```nox```."
   ]
  },
  {
   "cell_type": "code",
   "execution_count": 18,
   "metadata": {},
   "outputs": [
    {
     "data": {
      "text/plain": [
       "0"
      ]
     },
     "execution_count": 18,
     "metadata": {},
     "output_type": "execute_result"
    }
   ],
   "source": [
    "#use BayesianRidge as estimator\n",
    "imputer_bayes = IterativeImputer(estimator = BayesianRidge(n_iter=5), sample_posterior = True, max_iter = 100, random_state = 0)\n",
    "mice_MAR_BH_filled = imputer_bayes.fit_transform(mice_MAR_BH)\n",
    "\n",
    "#Check missing values\n",
    "np.isnan(mice_MAR_BH_filled).sum()"
   ]
  },
  {
   "cell_type": "code",
   "execution_count": 19,
   "metadata": {},
   "outputs": [
    {
     "data": {
      "text/html": [
       "<div>\n",
       "<style scoped>\n",
       "    .dataframe tbody tr th:only-of-type {\n",
       "        vertical-align: middle;\n",
       "    }\n",
       "\n",
       "    .dataframe tbody tr th {\n",
       "        vertical-align: top;\n",
       "    }\n",
       "\n",
       "    .dataframe thead th {\n",
       "        text-align: right;\n",
       "    }\n",
       "</style>\n",
       "<table border=\"1\" class=\"dataframe\">\n",
       "  <thead>\n",
       "    <tr style=\"text-align: right;\">\n",
       "      <th></th>\n",
       "      <th>CRIM</th>\n",
       "      <th>ZN</th>\n",
       "      <th>INDUS</th>\n",
       "      <th>CHAS</th>\n",
       "      <th>NOX</th>\n",
       "      <th>RM</th>\n",
       "      <th>AGE</th>\n",
       "      <th>DIS</th>\n",
       "      <th>RAD</th>\n",
       "      <th>TAX</th>\n",
       "      <th>PTRATIO</th>\n",
       "      <th>B</th>\n",
       "      <th>LSTAT</th>\n",
       "    </tr>\n",
       "  </thead>\n",
       "  <tbody>\n",
       "    <tr>\n",
       "      <td>0</td>\n",
       "      <td>0.00632</td>\n",
       "      <td>18.0</td>\n",
       "      <td>2.31</td>\n",
       "      <td>0.0</td>\n",
       "      <td>0.538</td>\n",
       "      <td>6.575</td>\n",
       "      <td>65.2</td>\n",
       "      <td>4.0900</td>\n",
       "      <td>1.0</td>\n",
       "      <td>296.0</td>\n",
       "      <td>15.3</td>\n",
       "      <td>396.90</td>\n",
       "      <td>4.98</td>\n",
       "    </tr>\n",
       "    <tr>\n",
       "      <td>1</td>\n",
       "      <td>0.02731</td>\n",
       "      <td>0.0</td>\n",
       "      <td>7.07</td>\n",
       "      <td>0.0</td>\n",
       "      <td>0.469</td>\n",
       "      <td>6.421</td>\n",
       "      <td>78.9</td>\n",
       "      <td>4.9671</td>\n",
       "      <td>2.0</td>\n",
       "      <td>242.0</td>\n",
       "      <td>17.8</td>\n",
       "      <td>396.90</td>\n",
       "      <td>9.14</td>\n",
       "    </tr>\n",
       "    <tr>\n",
       "      <td>2</td>\n",
       "      <td>0.02729</td>\n",
       "      <td>0.0</td>\n",
       "      <td>7.07</td>\n",
       "      <td>0.0</td>\n",
       "      <td>0.469</td>\n",
       "      <td>7.185</td>\n",
       "      <td>61.1</td>\n",
       "      <td>4.9671</td>\n",
       "      <td>2.0</td>\n",
       "      <td>242.0</td>\n",
       "      <td>17.8</td>\n",
       "      <td>392.83</td>\n",
       "      <td>4.03</td>\n",
       "    </tr>\n",
       "    <tr>\n",
       "      <td>3</td>\n",
       "      <td>0.03237</td>\n",
       "      <td>0.0</td>\n",
       "      <td>2.18</td>\n",
       "      <td>0.0</td>\n",
       "      <td>0.458</td>\n",
       "      <td>6.998</td>\n",
       "      <td>45.8</td>\n",
       "      <td>6.0622</td>\n",
       "      <td>3.0</td>\n",
       "      <td>222.0</td>\n",
       "      <td>18.7</td>\n",
       "      <td>394.63</td>\n",
       "      <td>2.94</td>\n",
       "    </tr>\n",
       "    <tr>\n",
       "      <td>4</td>\n",
       "      <td>0.06905</td>\n",
       "      <td>0.0</td>\n",
       "      <td>2.18</td>\n",
       "      <td>0.0</td>\n",
       "      <td>0.458</td>\n",
       "      <td>7.147</td>\n",
       "      <td>54.2</td>\n",
       "      <td>6.0622</td>\n",
       "      <td>3.0</td>\n",
       "      <td>222.0</td>\n",
       "      <td>18.7</td>\n",
       "      <td>396.90</td>\n",
       "      <td>5.33</td>\n",
       "    </tr>\n",
       "    <tr>\n",
       "      <td>...</td>\n",
       "      <td>...</td>\n",
       "      <td>...</td>\n",
       "      <td>...</td>\n",
       "      <td>...</td>\n",
       "      <td>...</td>\n",
       "      <td>...</td>\n",
       "      <td>...</td>\n",
       "      <td>...</td>\n",
       "      <td>...</td>\n",
       "      <td>...</td>\n",
       "      <td>...</td>\n",
       "      <td>...</td>\n",
       "      <td>...</td>\n",
       "    </tr>\n",
       "    <tr>\n",
       "      <td>501</td>\n",
       "      <td>0.06263</td>\n",
       "      <td>0.0</td>\n",
       "      <td>11.93</td>\n",
       "      <td>0.0</td>\n",
       "      <td>0.573</td>\n",
       "      <td>6.593</td>\n",
       "      <td>69.1</td>\n",
       "      <td>2.4786</td>\n",
       "      <td>1.0</td>\n",
       "      <td>273.0</td>\n",
       "      <td>21.0</td>\n",
       "      <td>391.99</td>\n",
       "      <td>9.67</td>\n",
       "    </tr>\n",
       "    <tr>\n",
       "      <td>502</td>\n",
       "      <td>0.04527</td>\n",
       "      <td>0.0</td>\n",
       "      <td>11.93</td>\n",
       "      <td>0.0</td>\n",
       "      <td>0.573</td>\n",
       "      <td>6.120</td>\n",
       "      <td>76.7</td>\n",
       "      <td>2.2875</td>\n",
       "      <td>1.0</td>\n",
       "      <td>273.0</td>\n",
       "      <td>21.0</td>\n",
       "      <td>396.90</td>\n",
       "      <td>9.08</td>\n",
       "    </tr>\n",
       "    <tr>\n",
       "      <td>503</td>\n",
       "      <td>0.06076</td>\n",
       "      <td>0.0</td>\n",
       "      <td>11.93</td>\n",
       "      <td>0.0</td>\n",
       "      <td>0.573</td>\n",
       "      <td>6.976</td>\n",
       "      <td>91.0</td>\n",
       "      <td>2.1675</td>\n",
       "      <td>1.0</td>\n",
       "      <td>273.0</td>\n",
       "      <td>21.0</td>\n",
       "      <td>396.90</td>\n",
       "      <td>5.64</td>\n",
       "    </tr>\n",
       "    <tr>\n",
       "      <td>504</td>\n",
       "      <td>0.10959</td>\n",
       "      <td>0.0</td>\n",
       "      <td>11.93</td>\n",
       "      <td>0.0</td>\n",
       "      <td>0.573</td>\n",
       "      <td>6.794</td>\n",
       "      <td>89.3</td>\n",
       "      <td>2.3889</td>\n",
       "      <td>1.0</td>\n",
       "      <td>273.0</td>\n",
       "      <td>21.0</td>\n",
       "      <td>393.45</td>\n",
       "      <td>6.48</td>\n",
       "    </tr>\n",
       "    <tr>\n",
       "      <td>505</td>\n",
       "      <td>0.04741</td>\n",
       "      <td>0.0</td>\n",
       "      <td>11.93</td>\n",
       "      <td>0.0</td>\n",
       "      <td>0.573</td>\n",
       "      <td>6.030</td>\n",
       "      <td>80.8</td>\n",
       "      <td>2.5050</td>\n",
       "      <td>1.0</td>\n",
       "      <td>273.0</td>\n",
       "      <td>21.0</td>\n",
       "      <td>396.90</td>\n",
       "      <td>7.88</td>\n",
       "    </tr>\n",
       "  </tbody>\n",
       "</table>\n",
       "<p>506 rows × 13 columns</p>\n",
       "</div>"
      ],
      "text/plain": [
       "        CRIM    ZN  INDUS  CHAS    NOX     RM   AGE     DIS  RAD    TAX  \\\n",
       "0    0.00632  18.0   2.31   0.0  0.538  6.575  65.2  4.0900  1.0  296.0   \n",
       "1    0.02731   0.0   7.07   0.0  0.469  6.421  78.9  4.9671  2.0  242.0   \n",
       "2    0.02729   0.0   7.07   0.0  0.469  7.185  61.1  4.9671  2.0  242.0   \n",
       "3    0.03237   0.0   2.18   0.0  0.458  6.998  45.8  6.0622  3.0  222.0   \n",
       "4    0.06905   0.0   2.18   0.0  0.458  7.147  54.2  6.0622  3.0  222.0   \n",
       "..       ...   ...    ...   ...    ...    ...   ...     ...  ...    ...   \n",
       "501  0.06263   0.0  11.93   0.0  0.573  6.593  69.1  2.4786  1.0  273.0   \n",
       "502  0.04527   0.0  11.93   0.0  0.573  6.120  76.7  2.2875  1.0  273.0   \n",
       "503  0.06076   0.0  11.93   0.0  0.573  6.976  91.0  2.1675  1.0  273.0   \n",
       "504  0.10959   0.0  11.93   0.0  0.573  6.794  89.3  2.3889  1.0  273.0   \n",
       "505  0.04741   0.0  11.93   0.0  0.573  6.030  80.8  2.5050  1.0  273.0   \n",
       "\n",
       "     PTRATIO       B  LSTAT  \n",
       "0       15.3  396.90   4.98  \n",
       "1       17.8  396.90   9.14  \n",
       "2       17.8  392.83   4.03  \n",
       "3       18.7  394.63   2.94  \n",
       "4       18.7  396.90   5.33  \n",
       "..       ...     ...    ...  \n",
       "501     21.0  391.99   9.67  \n",
       "502     21.0  396.90   9.08  \n",
       "503     21.0  396.90   5.64  \n",
       "504     21.0  393.45   6.48  \n",
       "505     21.0  396.90   7.88  \n",
       "\n",
       "[506 rows x 13 columns]"
      ]
     },
     "execution_count": 19,
     "metadata": {},
     "output_type": "execute_result"
    }
   ],
   "source": [
    "#Dataframe with the imputed values\n",
    "mice_MAR_BH = pd.DataFrame(np.reshape(mice_MAR_BH_filled, (506, 13)), columns = boston['feature_names'])\n",
    "mice_MAR_BH"
   ]
  },
  {
   "cell_type": "markdown",
   "metadata": {},
   "source": [
    "#### Iteration\n",
    "\n",
    "It is always a good idea to check the imputations visually. The density plots below compare the density of observed data with imputed data. We would expect them to be similar, because missingness is MAR. In this case, you can see that imputations for ```dis``` are relatively close, but those for ```nox``` are not so good."
   ]
  },
  {
   "cell_type": "code",
   "execution_count": 20,
   "metadata": {},
   "outputs": [],
   "source": [
    "observed = MAR_BostonHousing.copy()\n",
    "observed['Imputed'] = np.repeat('observed', 506)"
   ]
  },
  {
   "cell_type": "code",
   "execution_count": 21,
   "metadata": {},
   "outputs": [
    {
     "name": "stderr",
     "output_type": "stream",
     "text": [
      "/Users/annamontserratguerrero/opt/anaconda3/lib/python3.7/site-packages/ipykernel_launcher.py:3: SettingWithCopyWarning: \n",
      "A value is trying to be set on a copy of a slice from a DataFrame.\n",
      "Try using .loc[row_indexer,col_indexer] = value instead\n",
      "\n",
      "See the caveats in the documentation: http://pandas.pydata.org/pandas-docs/stable/user_guide/indexing.html#returning-a-view-versus-a-copy\n",
      "  This is separate from the ipykernel package so we can avoid doing imports until\n"
     ]
    }
   ],
   "source": [
    "mice_MAR_BH_dis = mice_MAR_BH.copy()\n",
    "mice_imputed_dis = mice_MAR_BH_dis[MAR_BostonHousing['DIS'].isna()]\n",
    "mice_imputed_dis['Imputed'] = np.repeat('imputed', 76)"
   ]
  },
  {
   "cell_type": "code",
   "execution_count": 22,
   "metadata": {},
   "outputs": [
    {
     "name": "stderr",
     "output_type": "stream",
     "text": [
      "/Users/annamontserratguerrero/opt/anaconda3/lib/python3.7/site-packages/ipykernel_launcher.py:3: SettingWithCopyWarning: \n",
      "A value is trying to be set on a copy of a slice from a DataFrame.\n",
      "Try using .loc[row_indexer,col_indexer] = value instead\n",
      "\n",
      "See the caveats in the documentation: http://pandas.pydata.org/pandas-docs/stable/user_guide/indexing.html#returning-a-view-versus-a-copy\n",
      "  This is separate from the ipykernel package so we can avoid doing imports until\n"
     ]
    }
   ],
   "source": [
    "mice_MAR_BH_nox = mice_MAR_BH.copy()\n",
    "mice_imputed_nox = mice_MAR_BH_nox[MAR_BostonHousing['NOX'].isna()]\n",
    "mice_imputed_nox['Imputed'] = np.repeat('imputed', 51)"
   ]
  },
  {
   "cell_type": "code",
   "execution_count": 50,
   "metadata": {},
   "outputs": [
    {
     "data": {
      "image/png": "[encoded data removed]",
      "text/plain": [
       "<Figure size 864x720 with 1 Axes>"
      ]
     },
     "metadata": {
      "needs_background": "light"
     },
     "output_type": "display_data"
    }
   ],
   "source": [
    "#check density plots\n",
    "graph_1 = pd.concat([observed, mice_imputed_dis])\n",
    "\n",
    "\n",
    "graph_1_imputed = graph_1.loc[graph_1['Imputed'] == 'imputed']\n",
    "graph_1_observed = graph_1.loc[graph_1['Imputed'] == 'observed']\n",
    "\n",
    "\n",
    "plt.figure(figsize = (12,10))\n",
    "sns.distplot(graph_1_imputed['DIS'], hist = False, kde = True,\n",
    "             color = 'red', \n",
    "             kde_kws={'linewidth': 2})\n",
    "sns.distplot(graph_1_observed['DIS'], hist = False, kde = True,\n",
    "             color = 'blue', \n",
    "             kde_kws={'linewidth': 2})\n",
    "plt.grid()\n"
   ]
  },
  {
   "cell_type": "code",
   "execution_count": 51,
   "metadata": {},
   "outputs": [
    {
     "data": {
      "image/png": "[encoded data removed]",
      "text/plain": [
       "<Figure size 864x720 with 1 Axes>"
      ]
     },
     "metadata": {
      "needs_background": "light"
     },
     "output_type": "display_data"
    }
   ],
   "source": [
    "graph_2 = pd.concat([observed, mice_imputed_nox])\n",
    "\n",
    "\n",
    "graph_2_imputed = graph_2.loc[graph_2['Imputed'] == 'imputed']\n",
    "graph_2_observed = graph_2.loc[graph_2['Imputed'] == 'observed']\n",
    "\n",
    "\n",
    "plt.figure(figsize = (12,10))\n",
    "sns.distplot(graph_2_imputed['NOX'], hist = False, kde = True,\n",
    "             color = 'red', \n",
    "             kde_kws={'linewidth': 2})\n",
    "sns.distplot(graph_2_observed['NOX'], hist = False, kde = True,\n",
    "             color = 'blue', \n",
    "             kde_kws={'linewidth': 2})\n",
    "plt.grid()"
   ]
  },
  {
   "cell_type": "markdown",
   "metadata": {},
   "source": [
    "### KNN Imputation\n",
    "\n",
    "KNN can be used for missing data imputation. It is close in spirit to “hot deck” or “cold deck” imputation where the closest value - under some metric - is assigned as an imputed missing value."
   ]
  },
  {
   "cell_type": "code",
   "execution_count": 25,
   "metadata": {},
   "outputs": [
    {
     "data": {
      "text/plain": [
       "0"
      ]
     },
     "execution_count": 25,
     "metadata": {},
     "output_type": "execute_result"
    }
   ],
   "source": [
    "knn_MAR_BH = MAR_BostonHousing.copy()\n",
    "imputer = KNNImputer(n_neighbors=10)\n",
    "\n",
    "#fill missing values by imputing\n",
    "knn_MAR_BH_filled = imputer.fit_transform(knn_MAR_BH)\n",
    "#no missing values\n",
    "np.isnan(knn_MAR_BH_filled).sum()"
   ]
  },
  {
   "cell_type": "code",
   "execution_count": 26,
   "metadata": {},
   "outputs": [
    {
     "data": {
      "text/plain": [
       "(506, 13)"
      ]
     },
     "execution_count": 26,
     "metadata": {},
     "output_type": "execute_result"
    }
   ],
   "source": [
    "knn_MAR_BH.shape"
   ]
  },
  {
   "cell_type": "code",
   "execution_count": 27,
   "metadata": {},
   "outputs": [],
   "source": [
    "#Dataframe with the imputed values\n",
    "knn_MAR_BH = pd.DataFrame(np.reshape(knn_MAR_BH_filled, (506, 13)), columns = boston['feature_names'])"
   ]
  },
  {
   "cell_type": "markdown",
   "metadata": {},
   "source": [
    "Check the density plots for knn observed vs. only imputed values"
   ]
  },
  {
   "cell_type": "code",
   "execution_count": 28,
   "metadata": {},
   "outputs": [],
   "source": [
    "observed = MAR_BostonHousing.copy()\n",
    "observed['Imputed'] = np.repeat('observed', 506)"
   ]
  },
  {
   "cell_type": "code",
   "execution_count": 29,
   "metadata": {
    "scrolled": true
   },
   "outputs": [
    {
     "name": "stderr",
     "output_type": "stream",
     "text": [
      "/Users/annamontserratguerrero/opt/anaconda3/lib/python3.7/site-packages/ipykernel_launcher.py:3: SettingWithCopyWarning: \n",
      "A value is trying to be set on a copy of a slice from a DataFrame.\n",
      "Try using .loc[row_indexer,col_indexer] = value instead\n",
      "\n",
      "See the caveats in the documentation: http://pandas.pydata.org/pandas-docs/stable/user_guide/indexing.html#returning-a-view-versus-a-copy\n",
      "  This is separate from the ipykernel package so we can avoid doing imports until\n"
     ]
    }
   ],
   "source": [
    "knn_MAR_BH_dis = knn_MAR_BH.copy()\n",
    "knn_imputed_dis = knn_MAR_BH_dis[MAR_BostonHousing['DIS'].isna()]\n",
    "knn_imputed_dis['Imputed'] = np.repeat('imputed', 76)\n"
   ]
  },
  {
   "cell_type": "code",
   "execution_count": 30,
   "metadata": {},
   "outputs": [
    {
     "name": "stderr",
     "output_type": "stream",
     "text": [
      "/Users/annamontserratguerrero/opt/anaconda3/lib/python3.7/site-packages/ipykernel_launcher.py:3: SettingWithCopyWarning: \n",
      "A value is trying to be set on a copy of a slice from a DataFrame.\n",
      "Try using .loc[row_indexer,col_indexer] = value instead\n",
      "\n",
      "See the caveats in the documentation: http://pandas.pydata.org/pandas-docs/stable/user_guide/indexing.html#returning-a-view-versus-a-copy\n",
      "  This is separate from the ipykernel package so we can avoid doing imports until\n"
     ]
    }
   ],
   "source": [
    "knn_MAR_BH_nox = knn_MAR_BH.copy()\n",
    "knn_imputed_nox = knn_MAR_BH_nox[MAR_BostonHousing['NOX'].isna()]\n",
    "knn_imputed_nox['Imputed'] = np.repeat('imputed', 51)\n"
   ]
  },
  {
   "cell_type": "code",
   "execution_count": 52,
   "metadata": {},
   "outputs": [
    {
     "data": {
      "image/png": "[encoded data removed]",
      "text/plain": [
       "<Figure size 864x720 with 1 Axes>"
      ]
     },
     "metadata": {
      "needs_background": "light"
     },
     "output_type": "display_data"
    }
   ],
   "source": [
    "graph_3 = pd.concat([observed, knn_imputed_dis])\n",
    "\n",
    "\n",
    "graph_3_imputed = graph_3.loc[graph_3['Imputed'] == 'imputed']\n",
    "graph_3_observed = graph_3.loc[graph_3['Imputed'] == 'observed']\n",
    "\n",
    "\n",
    "plt.figure(figsize = (12,10))\n",
    "sns.distplot(graph_3_imputed['DIS'], hist = False, kde = True,\n",
    "             color = 'red', \n",
    "             kde_kws={'linewidth': 2})\n",
    "sns.distplot(graph_3_observed['DIS'], hist = False, kde = True,\n",
    "             color = 'blue', \n",
    "             kde_kws={'linewidth': 2})\n",
    "plt.grid()"
   ]
  },
  {
   "cell_type": "code",
   "execution_count": 53,
   "metadata": {},
   "outputs": [
    {
     "data": {
      "image/png": "[encoded data removed]",
      "text/plain": [
       "<Figure size 864x720 with 1 Axes>"
      ]
     },
     "metadata": {
      "needs_background": "light"
     },
     "output_type": "display_data"
    }
   ],
   "source": [
    "graph_4 = pd.concat([observed, knn_imputed_nox])\n",
    "\n",
    "\n",
    "graph_4_imputed = graph_4.loc[graph_4['Imputed'] == 'imputed']\n",
    "graph_4_observed = graph_4.loc[graph_4['Imputed'] == 'observed']\n",
    "\n",
    "\n",
    "plt.figure(figsize = (12,10))\n",
    "sns.distplot(graph_4_imputed['NOX'], hist = False, kde = True,\n",
    "             color = 'red', \n",
    "             kde_kws={'linewidth': 2})\n",
    "sns.distplot(graph_4_observed['NOX'], hist = False, kde = True,\n",
    "             color = 'blue', \n",
    "             kde_kws={'linewidth': 2})\n",
    "plt.grid()"
   ]
  },
  {
   "cell_type": "markdown",
   "metadata": {},
   "source": [
    "#### Random Forest Imputation\n",
    "\n",
    "Another imputation method that can handle non-linearities and deep interactions between variables, that may help get better recover the original distribution under **MAR** is Random Forests. Its application is straightforward under the `missForest` package."
   ]
  },
  {
   "cell_type": "code",
   "execution_count": 33,
   "metadata": {},
   "outputs": [
    {
     "data": {
      "text/plain": [
       "array([[6.3200e-03, 1.8000e+01, 2.3100e+00, ..., 1.5300e+01, 3.9690e+02,\n",
       "        4.9800e+00],\n",
       "       [2.7310e-02, 0.0000e+00, 7.0700e+00, ..., 1.7800e+01, 3.9690e+02,\n",
       "        9.1400e+00],\n",
       "       [2.7290e-02, 0.0000e+00, 7.0700e+00, ..., 1.7800e+01, 3.9283e+02,\n",
       "        4.0300e+00],\n",
       "       ...,\n",
       "       [6.0760e-02, 0.0000e+00, 1.1930e+01, ..., 2.1000e+01, 3.9690e+02,\n",
       "        5.6400e+00],\n",
       "       [1.0959e-01, 0.0000e+00, 1.1930e+01, ..., 2.1000e+01, 3.9345e+02,\n",
       "        6.4800e+00],\n",
       "       [4.7410e-02, 0.0000e+00, 1.1930e+01, ..., 2.1000e+01, 3.9690e+02,\n",
       "        7.8800e+00]])"
      ]
     },
     "execution_count": 33,
     "metadata": {},
     "output_type": "execute_result"
    }
   ],
   "source": [
    "rf_MAR = MAR_BostonHousing.copy()\n",
    "\n",
    "imputer_missForest = IterativeImputer(estimator=ExtraTreesRegressor(n_estimators=10, random_state =0), max_iter=50, random_state = 0)\n",
    "\n",
    "#X_train, X_test, y_train, y_test = train_test_split(rf_MAR)\n",
    "imputer_missForest.fit(rf_MAR)\n",
    "rf_MAR_filled = imputer_missForest.transform(rf_MAR)\n",
    "rf_MAR_filled"
   ]
  },
  {
   "cell_type": "code",
   "execution_count": 34,
   "metadata": {},
   "outputs": [],
   "source": [
    "rf_MAR_BH = pd.DataFrame(np.reshape(rf_MAR_filled, (506, 13)), columns = boston['feature_names'])"
   ]
  },
  {
   "cell_type": "code",
   "execution_count": 35,
   "metadata": {},
   "outputs": [
    {
     "data": {
      "text/html": [
       "<div>\n",
       "<style scoped>\n",
       "    .dataframe tbody tr th:only-of-type {\n",
       "        vertical-align: middle;\n",
       "    }\n",
       "\n",
       "    .dataframe tbody tr th {\n",
       "        vertical-align: top;\n",
       "    }\n",
       "\n",
       "    .dataframe thead th {\n",
       "        text-align: right;\n",
       "    }\n",
       "</style>\n",
       "<table border=\"1\" class=\"dataframe\">\n",
       "  <thead>\n",
       "    <tr style=\"text-align: right;\">\n",
       "      <th></th>\n",
       "      <th>CRIM</th>\n",
       "      <th>ZN</th>\n",
       "      <th>INDUS</th>\n",
       "      <th>CHAS</th>\n",
       "      <th>NOX</th>\n",
       "      <th>RM</th>\n",
       "      <th>AGE</th>\n",
       "      <th>DIS</th>\n",
       "      <th>RAD</th>\n",
       "      <th>TAX</th>\n",
       "      <th>PTRATIO</th>\n",
       "      <th>B</th>\n",
       "      <th>LSTAT</th>\n",
       "    </tr>\n",
       "  </thead>\n",
       "  <tbody>\n",
       "    <tr>\n",
       "      <td>0</td>\n",
       "      <td>0.00632</td>\n",
       "      <td>18.0</td>\n",
       "      <td>2.31</td>\n",
       "      <td>0.0</td>\n",
       "      <td>0.538</td>\n",
       "      <td>6.575</td>\n",
       "      <td>65.2</td>\n",
       "      <td>4.0900</td>\n",
       "      <td>1.0</td>\n",
       "      <td>296.0</td>\n",
       "      <td>15.3</td>\n",
       "      <td>396.90</td>\n",
       "      <td>4.98</td>\n",
       "    </tr>\n",
       "    <tr>\n",
       "      <td>1</td>\n",
       "      <td>0.02731</td>\n",
       "      <td>0.0</td>\n",
       "      <td>7.07</td>\n",
       "      <td>0.0</td>\n",
       "      <td>0.469</td>\n",
       "      <td>6.421</td>\n",
       "      <td>78.9</td>\n",
       "      <td>4.9671</td>\n",
       "      <td>2.0</td>\n",
       "      <td>242.0</td>\n",
       "      <td>17.8</td>\n",
       "      <td>396.90</td>\n",
       "      <td>9.14</td>\n",
       "    </tr>\n",
       "    <tr>\n",
       "      <td>2</td>\n",
       "      <td>0.02729</td>\n",
       "      <td>0.0</td>\n",
       "      <td>7.07</td>\n",
       "      <td>0.0</td>\n",
       "      <td>0.469</td>\n",
       "      <td>7.185</td>\n",
       "      <td>61.1</td>\n",
       "      <td>4.9671</td>\n",
       "      <td>2.0</td>\n",
       "      <td>242.0</td>\n",
       "      <td>17.8</td>\n",
       "      <td>392.83</td>\n",
       "      <td>4.03</td>\n",
       "    </tr>\n",
       "    <tr>\n",
       "      <td>3</td>\n",
       "      <td>0.03237</td>\n",
       "      <td>0.0</td>\n",
       "      <td>2.18</td>\n",
       "      <td>0.0</td>\n",
       "      <td>0.458</td>\n",
       "      <td>6.998</td>\n",
       "      <td>45.8</td>\n",
       "      <td>6.0622</td>\n",
       "      <td>3.0</td>\n",
       "      <td>222.0</td>\n",
       "      <td>18.7</td>\n",
       "      <td>394.63</td>\n",
       "      <td>2.94</td>\n",
       "    </tr>\n",
       "    <tr>\n",
       "      <td>4</td>\n",
       "      <td>0.06905</td>\n",
       "      <td>0.0</td>\n",
       "      <td>2.18</td>\n",
       "      <td>0.0</td>\n",
       "      <td>0.458</td>\n",
       "      <td>7.147</td>\n",
       "      <td>54.2</td>\n",
       "      <td>6.0622</td>\n",
       "      <td>3.0</td>\n",
       "      <td>222.0</td>\n",
       "      <td>18.7</td>\n",
       "      <td>396.90</td>\n",
       "      <td>5.33</td>\n",
       "    </tr>\n",
       "    <tr>\n",
       "      <td>...</td>\n",
       "      <td>...</td>\n",
       "      <td>...</td>\n",
       "      <td>...</td>\n",
       "      <td>...</td>\n",
       "      <td>...</td>\n",
       "      <td>...</td>\n",
       "      <td>...</td>\n",
       "      <td>...</td>\n",
       "      <td>...</td>\n",
       "      <td>...</td>\n",
       "      <td>...</td>\n",
       "      <td>...</td>\n",
       "      <td>...</td>\n",
       "    </tr>\n",
       "    <tr>\n",
       "      <td>501</td>\n",
       "      <td>0.06263</td>\n",
       "      <td>0.0</td>\n",
       "      <td>11.93</td>\n",
       "      <td>0.0</td>\n",
       "      <td>0.573</td>\n",
       "      <td>6.593</td>\n",
       "      <td>69.1</td>\n",
       "      <td>2.4786</td>\n",
       "      <td>1.0</td>\n",
       "      <td>273.0</td>\n",
       "      <td>21.0</td>\n",
       "      <td>391.99</td>\n",
       "      <td>9.67</td>\n",
       "    </tr>\n",
       "    <tr>\n",
       "      <td>502</td>\n",
       "      <td>0.04527</td>\n",
       "      <td>0.0</td>\n",
       "      <td>11.93</td>\n",
       "      <td>0.0</td>\n",
       "      <td>0.573</td>\n",
       "      <td>6.120</td>\n",
       "      <td>76.7</td>\n",
       "      <td>2.2875</td>\n",
       "      <td>1.0</td>\n",
       "      <td>273.0</td>\n",
       "      <td>21.0</td>\n",
       "      <td>396.90</td>\n",
       "      <td>9.08</td>\n",
       "    </tr>\n",
       "    <tr>\n",
       "      <td>503</td>\n",
       "      <td>0.06076</td>\n",
       "      <td>0.0</td>\n",
       "      <td>11.93</td>\n",
       "      <td>0.0</td>\n",
       "      <td>0.573</td>\n",
       "      <td>6.976</td>\n",
       "      <td>91.0</td>\n",
       "      <td>2.1675</td>\n",
       "      <td>1.0</td>\n",
       "      <td>273.0</td>\n",
       "      <td>21.0</td>\n",
       "      <td>396.90</td>\n",
       "      <td>5.64</td>\n",
       "    </tr>\n",
       "    <tr>\n",
       "      <td>504</td>\n",
       "      <td>0.10959</td>\n",
       "      <td>0.0</td>\n",
       "      <td>11.93</td>\n",
       "      <td>0.0</td>\n",
       "      <td>0.573</td>\n",
       "      <td>6.794</td>\n",
       "      <td>89.3</td>\n",
       "      <td>2.3889</td>\n",
       "      <td>1.0</td>\n",
       "      <td>273.0</td>\n",
       "      <td>21.0</td>\n",
       "      <td>393.45</td>\n",
       "      <td>6.48</td>\n",
       "    </tr>\n",
       "    <tr>\n",
       "      <td>505</td>\n",
       "      <td>0.04741</td>\n",
       "      <td>0.0</td>\n",
       "      <td>11.93</td>\n",
       "      <td>0.0</td>\n",
       "      <td>0.573</td>\n",
       "      <td>6.030</td>\n",
       "      <td>80.8</td>\n",
       "      <td>2.5050</td>\n",
       "      <td>1.0</td>\n",
       "      <td>273.0</td>\n",
       "      <td>21.0</td>\n",
       "      <td>396.90</td>\n",
       "      <td>7.88</td>\n",
       "    </tr>\n",
       "  </tbody>\n",
       "</table>\n",
       "<p>506 rows × 13 columns</p>\n",
       "</div>"
      ],
      "text/plain": [
       "        CRIM    ZN  INDUS  CHAS    NOX     RM   AGE     DIS  RAD    TAX  \\\n",
       "0    0.00632  18.0   2.31   0.0  0.538  6.575  65.2  4.0900  1.0  296.0   \n",
       "1    0.02731   0.0   7.07   0.0  0.469  6.421  78.9  4.9671  2.0  242.0   \n",
       "2    0.02729   0.0   7.07   0.0  0.469  7.185  61.1  4.9671  2.0  242.0   \n",
       "3    0.03237   0.0   2.18   0.0  0.458  6.998  45.8  6.0622  3.0  222.0   \n",
       "4    0.06905   0.0   2.18   0.0  0.458  7.147  54.2  6.0622  3.0  222.0   \n",
       "..       ...   ...    ...   ...    ...    ...   ...     ...  ...    ...   \n",
       "501  0.06263   0.0  11.93   0.0  0.573  6.593  69.1  2.4786  1.0  273.0   \n",
       "502  0.04527   0.0  11.93   0.0  0.573  6.120  76.7  2.2875  1.0  273.0   \n",
       "503  0.06076   0.0  11.93   0.0  0.573  6.976  91.0  2.1675  1.0  273.0   \n",
       "504  0.10959   0.0  11.93   0.0  0.573  6.794  89.3  2.3889  1.0  273.0   \n",
       "505  0.04741   0.0  11.93   0.0  0.573  6.030  80.8  2.5050  1.0  273.0   \n",
       "\n",
       "     PTRATIO       B  LSTAT  \n",
       "0       15.3  396.90   4.98  \n",
       "1       17.8  396.90   9.14  \n",
       "2       17.8  392.83   4.03  \n",
       "3       18.7  394.63   2.94  \n",
       "4       18.7  396.90   5.33  \n",
       "..       ...     ...    ...  \n",
       "501     21.0  391.99   9.67  \n",
       "502     21.0  396.90   9.08  \n",
       "503     21.0  396.90   5.64  \n",
       "504     21.0  393.45   6.48  \n",
       "505     21.0  396.90   7.88  \n",
       "\n",
       "[506 rows x 13 columns]"
      ]
     },
     "execution_count": 35,
     "metadata": {},
     "output_type": "execute_result"
    }
   ],
   "source": [
    "rf_MAR_BH #imputed data"
   ]
  },
  {
   "cell_type": "markdown",
   "metadata": {},
   "source": [
    "Check the density plots for Random Forest"
   ]
  },
  {
   "cell_type": "code",
   "execution_count": 36,
   "metadata": {},
   "outputs": [],
   "source": [
    "observed = MAR_BostonHousing.copy()\n",
    "observed['Imputed'] = np.repeat('observed', 506)"
   ]
  },
  {
   "cell_type": "code",
   "execution_count": 37,
   "metadata": {},
   "outputs": [
    {
     "name": "stderr",
     "output_type": "stream",
     "text": [
      "/Users/annamontserratguerrero/opt/anaconda3/lib/python3.7/site-packages/ipykernel_launcher.py:4: SettingWithCopyWarning: \n",
      "A value is trying to be set on a copy of a slice from a DataFrame.\n",
      "Try using .loc[row_indexer,col_indexer] = value instead\n",
      "\n",
      "See the caveats in the documentation: http://pandas.pydata.org/pandas-docs/stable/user_guide/indexing.html#returning-a-view-versus-a-copy\n",
      "  after removing the cwd from sys.path.\n"
     ]
    }
   ],
   "source": [
    "rf_MAR_BH_dis = rf_MAR_BH.copy()\n",
    "rf_imputed_dis = rf_MAR_BH_dis[MAR_BostonHousing['DIS'].isna()]\n",
    "\n",
    "rf_imputed_dis['Imputed'] = np.repeat('imputed', 76)"
   ]
  },
  {
   "cell_type": "code",
   "execution_count": 38,
   "metadata": {},
   "outputs": [
    {
     "name": "stderr",
     "output_type": "stream",
     "text": [
      "/Users/annamontserratguerrero/opt/anaconda3/lib/python3.7/site-packages/ipykernel_launcher.py:3: SettingWithCopyWarning: \n",
      "A value is trying to be set on a copy of a slice from a DataFrame.\n",
      "Try using .loc[row_indexer,col_indexer] = value instead\n",
      "\n",
      "See the caveats in the documentation: http://pandas.pydata.org/pandas-docs/stable/user_guide/indexing.html#returning-a-view-versus-a-copy\n",
      "  This is separate from the ipykernel package so we can avoid doing imports until\n"
     ]
    }
   ],
   "source": [
    "rf_MAR_BH_nox = rf_MAR_BH.copy()\n",
    "rf_imputed_nox = rf_MAR_BH_nox[MAR_BostonHousing['NOX'].isna()]\n",
    "rf_imputed_nox['Imputed'] = np.repeat('imputed', 51)"
   ]
  },
  {
   "cell_type": "code",
   "execution_count": 54,
   "metadata": {},
   "outputs": [
    {
     "data": {
      "image/png": "[encoded data removed]",
      "text/plain": [
       "<Figure size 864x720 with 1 Axes>"
      ]
     },
     "metadata": {
      "needs_background": "light"
     },
     "output_type": "display_data"
    }
   ],
   "source": [
    "graph_5 = pd.concat([observed, rf_imputed_dis])\n",
    "\n",
    "\n",
    "graph_5_imputed = graph_5.loc[graph_3['Imputed'] == 'imputed']\n",
    "graph_5_observed = graph_5.loc[graph_3['Imputed'] == 'observed']\n",
    "\n",
    "\n",
    "plt.figure(figsize = (12,10))\n",
    "sns.distplot(graph_5_imputed['DIS'], hist = False, kde = True,\n",
    "             color = 'red', \n",
    "             kde_kws={'linewidth': 2})\n",
    "sns.distplot(graph_5_observed['DIS'], hist = False, kde = True,\n",
    "             color = 'blue', \n",
    "             kde_kws={'linewidth': 2})\n",
    "plt.grid()"
   ]
  },
  {
   "cell_type": "code",
   "execution_count": 55,
   "metadata": {},
   "outputs": [
    {
     "data": {
      "image/png": "[encoded data removed]",
      "text/plain": [
       "<Figure size 864x720 with 1 Axes>"
      ]
     },
     "metadata": {
      "needs_background": "light"
     },
     "output_type": "display_data"
    }
   ],
   "source": [
    "graph_6 = pd.concat([observed, rf_imputed_nox])\n",
    "\n",
    "\n",
    "graph_6_imputed = graph_6.loc[graph_2['Imputed'] == 'imputed']\n",
    "graph_6_observed = graph_6.loc[graph_2['Imputed'] == 'observed']\n",
    "\n",
    "\n",
    "plt.figure(figsize = (12,10))\n",
    "sns.distplot(graph_6_imputed['NOX'], hist = False, kde = True,\n",
    "             color = 'red', \n",
    "             kde_kws={'linewidth': 2})\n",
    "sns.distplot(graph_6_observed['NOX'], hist = False, kde = True,\n",
    "             color = 'blue', \n",
    "             kde_kws={'linewidth': 2})\n",
    "plt.grid()"
   ]
  },
  {
   "cell_type": "markdown",
   "metadata": {},
   "source": [
    "### An assessment\n",
    "It is not typically the case that we would have means to assess how good an imputation is. In this example, we can actually get a sense of how good each method was for recovering the original values.\n",
    "\n",
    "Please note that these assessments are applicable to this example, and are not a comment on which method is generally better than others."
   ]
  },
  {
   "cell_type": "code",
   "execution_count": 41,
   "metadata": {},
   "outputs": [],
   "source": [
    "# :::::::::::::::::::::::::::::::::::::::::::::::::::::::::::::::::::::::::::::\n",
    "# ::::::::: GET IMPUTATION METRICS FOR ALL METHODS ::::::::::::::::::::::::::::\n",
    "\n",
    "#Functions for accuracy metrics:\n",
    "def MAE(predict, target):\n",
    "    return (abs(predict-target)).mean()\n",
    "\n",
    "def MSE(predict, target):\n",
    "    return ((predict-target)**2).mean()\n",
    "\n",
    "def RMSE(predict, target):\n",
    "    return np.sqrt(((predict - target) ** 2).mean())\n",
    "\n",
    "def MAPE(predict,target):\n",
    "    return ( abs((target - predict) / target).mean())\n",
    "\n",
    "# ::::::::: MEAN IMPUTATION METRICS\n",
    "# Get an accuracy metric for the imputation of dis\n",
    "real_values = df['DIS'][MAR_BostonHousing['DIS'].isna()]\n",
    "imputed_values = mean_MAR_BH['DIS'][MAR_BostonHousing['DIS'].isna()]\n",
    "ac_mean_dis_MAE = MAE(imputed_values, real_values)\n",
    "ac_mean_dis_MSE = MSE(imputed_values, real_values)\n",
    "ac_mean_dis_RMSE = RMSE(imputed_values, real_values)\n",
    "ac_mean_dis_MAPE = MAPE(imputed_values, real_values)\n",
    "\n",
    "# Get an accuracy metric for the imputation  of nox\n",
    "real_values = df['NOX'][MAR_BostonHousing['NOX'].isna()]\n",
    "imputed_values = mean_MAR_BH['NOX'][MAR_BostonHousing['NOX'].isna()]\n",
    "ac_mean_nox_MAE = MAE(imputed_values, real_values)\n",
    "ac_mean_nox_MSE = MSE(imputed_values, real_values)\n",
    "ac_mean_nox_RMSE = RMSE(imputed_values, real_values)\n",
    "ac_mean_nox_MAPE = MAPE(imputed_values, real_values)\n",
    "\n",
    "\n",
    "# ::::::::: MICE METRICS\n",
    "# Get an accuracy metric for the imputation of dis\n",
    "real_values = df['DIS'][MAR_BostonHousing['DIS'].isna()]\n",
    "imputed_values = mice_MAR_BH['DIS'][MAR_BostonHousing['DIS'].isna()]\n",
    "ac_mice_dis_MAE = MAE(imputed_values, real_values)\n",
    "ac_mice_dis_MSE = MSE(imputed_values, real_values)\n",
    "ac_mice_dis_RMSE = RMSE(imputed_values, real_values)\n",
    "ac_mice_dis_MAPE = MAPE(imputed_values, real_values)\n",
    "\n",
    "#Get the accuracy of nox\n",
    "real_values = df['NOX'][MAR_BostonHousing['NOX'].isna()]\n",
    "imputed_values = mice_MAR_BH['NOX'][MAR_BostonHousing['NOX'].isna()]\n",
    "ac_mice_nox_MAE = MAE(imputed_values, real_values)\n",
    "ac_mice_nox_MSE = MSE(imputed_values, real_values)\n",
    "ac_mice_nox_RMSE = RMSE(imputed_values, real_values)\n",
    "ac_mice_nox_MAPE = MAPE(imputed_values, real_values)\n",
    "\n",
    "# ::::::::: KNN IMPUTATION METRICS\n",
    "\n",
    "## get the accuracy of dis\n",
    "real_values = df['DIS'][MAR_BostonHousing['DIS'].isna()]\n",
    "imputed_values = knn_MAR_BH['DIS'][MAR_BostonHousing['DIS'].isna()]\n",
    "ac_knn_dis_MAE = MAE(imputed_values, real_values) #integer\n",
    "ac_knn_dis_MSE = MSE(imputed_values, real_values)\n",
    "ac_knn_dis_RMSE = RMSE(imputed_values, real_values)\n",
    "ac_knn_dis_MAPE = MAPE(imputed_values, real_values)\n",
    "\n",
    "#Get the accuracy of nox\n",
    "real_values = df['NOX'][MAR_BostonHousing['NOX'].isna()]\n",
    "imputed_values = knn_MAR_BH['NOX'][MAR_BostonHousing['NOX'].isna()]\n",
    "ac_knn_nox_MAE = MAE(imputed_values, real_values)\n",
    "ac_knn_nox_MSE = MSE(imputed_values, real_values)\n",
    "ac_knn_nox_RMSE = RMSE(imputed_values, real_values)\n",
    "ac_knn_nox_MAPE = MAPE(imputed_values, real_values)\n",
    "\n",
    "# ::::::::: RANDOM FORESTS IMPUTATION METRICS\n",
    "\n",
    "##Get the accuracy of dis\n",
    "real_values = df['NOX'][MAR_BostonHousing['NOX'].isna()]\n",
    "imputed_values = rf_MAR_BH['NOX'][MAR_BostonHousing['NOX'].isna()]\n",
    "ac_rf_dis_MAE = MAE(imputed_values, real_values)\n",
    "ac_rf_dis_MSE = MSE(imputed_values, real_values)\n",
    "ac_rf_dis_RMSE = RMSE(imputed_values, real_values)\n",
    "ac_rf_dis_MAPE = MAPE(imputed_values, real_values)\n",
    "\n",
    "#Get the accuracy of nox\n",
    "real_values = df['NOX'][MAR_BostonHousing['NOX'].isna()]\n",
    "imputed_values = rf_MAR_BH['NOX'][MAR_BostonHousing['NOX'].isna()]\n",
    "ac_rf_nox_MAE = MAE(imputed_values, real_values)\n",
    "ac_rf_nox_MSE = MSE(imputed_values, real_values)\n",
    "ac_rf_nox_RMSE = RMSE(imputed_values, real_values)\n",
    "ac_rf_nox_MAPE = MAPE(imputed_values, real_values)\n"
   ]
  },
  {
   "cell_type": "code",
   "execution_count": 42,
   "metadata": {},
   "outputs": [],
   "source": [
    "dis_MAE = [ac_mean_dis_MAE, ac_mice_dis_MAE, ac_knn_dis_MAE, ac_rf_dis_MAE]\n",
    "nox_MAE = [ac_mean_nox_MAE, ac_mice_nox_MAE, ac_knn_nox_MAE, ac_rf_nox_MAE]\n",
    "\n",
    "dis_MSE = [ac_mean_dis_MSE, ac_mice_dis_MSE, ac_knn_dis_MSE, ac_rf_dis_MSE]\n",
    "nox_MSE = [ac_mean_nox_MSE, ac_mice_nox_MSE, ac_knn_nox_MSE, ac_rf_nox_MSE]\n",
    "\n",
    "dis_RMSE = [ac_mean_dis_RMSE, ac_mice_dis_RMSE, ac_knn_dis_RMSE, ac_rf_dis_RMSE]\n",
    "nox_RMSE = [ac_mean_nox_RMSE, ac_mice_nox_RMSE, ac_knn_nox_RMSE, ac_rf_nox_RMSE]\n",
    "\n",
    "dis_MAPE = [ac_mean_dis_MAPE, ac_mice_dis_MAPE, ac_knn_dis_MAPE, ac_rf_dis_MAPE]\n",
    "nox_MAPE = [ac_mean_nox_MAPE, ac_mice_nox_MAPE, ac_knn_nox_MAPE, ac_rf_nox_MAPE]\n",
    "\n",
    "#name of index rows\n",
    "names = ['mean', 'mi', 'knn', 'rf']"
   ]
  },
  {
   "cell_type": "markdown",
   "metadata": {},
   "source": [
    "Note that on this example, the best performing model to recover the original values was Random Forests imputation."
   ]
  },
  {
   "cell_type": "code",
   "execution_count": 43,
   "metadata": {},
   "outputs": [],
   "source": [
    "#Create dataframe \n",
    "final_df_dis = pd.DataFrame()\n",
    "final_df_dis['MAE'] = dis_MAE\n",
    "final_df_dis['MSE'] = dis_MSE\n",
    "final_df_dis['RMSE'] = dis_RMSE\n",
    "final_df_dis['MAPE'] = dis_MAPE\n",
    "final_df_dis['methods'] = names\n",
    "final_df_dis.set_index('methods', inplace=True)"
   ]
  },
  {
   "cell_type": "code",
   "execution_count": 44,
   "metadata": {},
   "outputs": [
    {
     "data": {
      "text/html": [
       "<div>\n",
       "<style scoped>\n",
       "    .dataframe tbody tr th:only-of-type {\n",
       "        vertical-align: middle;\n",
       "    }\n",
       "\n",
       "    .dataframe tbody tr th {\n",
       "        vertical-align: top;\n",
       "    }\n",
       "\n",
       "    .dataframe thead th {\n",
       "        text-align: right;\n",
       "    }\n",
       "</style>\n",
       "<table border=\"1\" class=\"dataframe\">\n",
       "  <thead>\n",
       "    <tr style=\"text-align: right;\">\n",
       "      <th></th>\n",
       "      <th>MAE</th>\n",
       "      <th>MSE</th>\n",
       "      <th>RMSE</th>\n",
       "      <th>MAPE</th>\n",
       "    </tr>\n",
       "    <tr>\n",
       "      <th>methods</th>\n",
       "      <th></th>\n",
       "      <th></th>\n",
       "      <th></th>\n",
       "      <th></th>\n",
       "    </tr>\n",
       "  </thead>\n",
       "  <tbody>\n",
       "    <tr>\n",
       "      <td>mean</td>\n",
       "      <td>2.296092</td>\n",
       "      <td>5.636067</td>\n",
       "      <td>2.374040</td>\n",
       "      <td>1.416116</td>\n",
       "    </tr>\n",
       "    <tr>\n",
       "      <td>mi</td>\n",
       "      <td>1.302166</td>\n",
       "      <td>2.667985</td>\n",
       "      <td>1.633397</td>\n",
       "      <td>0.744128</td>\n",
       "    </tr>\n",
       "    <tr>\n",
       "      <td>knn</td>\n",
       "      <td>0.470051</td>\n",
       "      <td>0.311009</td>\n",
       "      <td>0.557682</td>\n",
       "      <td>0.283867</td>\n",
       "    </tr>\n",
       "    <tr>\n",
       "      <td>rf</td>\n",
       "      <td>0.039806</td>\n",
       "      <td>0.002732</td>\n",
       "      <td>0.052273</td>\n",
       "      <td>0.062285</td>\n",
       "    </tr>\n",
       "  </tbody>\n",
       "</table>\n",
       "</div>"
      ],
      "text/plain": [
       "              MAE       MSE      RMSE      MAPE\n",
       "methods                                        \n",
       "mean     2.296092  5.636067  2.374040  1.416116\n",
       "mi       1.302166  2.667985  1.633397  0.744128\n",
       "knn      0.470051  0.311009  0.557682  0.283867\n",
       "rf       0.039806  0.002732  0.052273  0.062285"
      ]
     },
     "execution_count": 44,
     "metadata": {},
     "output_type": "execute_result"
    }
   ],
   "source": [
    "final_df_dis"
   ]
  },
  {
   "cell_type": "code",
   "execution_count": 45,
   "metadata": {},
   "outputs": [],
   "source": [
    "#Create Dataframe\n",
    "final_df_nox = pd.DataFrame()\n",
    "final_df_nox['MAE'] = nox_MAE\n",
    "final_df_nox['MSE'] = nox_MSE\n",
    "final_df_nox['RMSE'] = nox_RMSE\n",
    "final_df_nox['MAPE'] = nox_MAPE\n",
    "final_df_nox['methods'] = names\n",
    "final_df_nox.set_index('methods', inplace=True)"
   ]
  },
  {
   "cell_type": "code",
   "execution_count": 46,
   "metadata": {},
   "outputs": [
    {
     "data": {
      "text/html": [
       "<div>\n",
       "<style scoped>\n",
       "    .dataframe tbody tr th:only-of-type {\n",
       "        vertical-align: middle;\n",
       "    }\n",
       "\n",
       "    .dataframe tbody tr th {\n",
       "        vertical-align: top;\n",
       "    }\n",
       "\n",
       "    .dataframe thead th {\n",
       "        text-align: right;\n",
       "    }\n",
       "</style>\n",
       "<table border=\"1\" class=\"dataframe\">\n",
       "  <thead>\n",
       "    <tr style=\"text-align: right;\">\n",
       "      <th></th>\n",
       "      <th>MAE</th>\n",
       "      <th>MSE</th>\n",
       "      <th>RMSE</th>\n",
       "      <th>MAPE</th>\n",
       "    </tr>\n",
       "    <tr>\n",
       "      <th>methods</th>\n",
       "      <th></th>\n",
       "      <th></th>\n",
       "      <th></th>\n",
       "      <th></th>\n",
       "    </tr>\n",
       "  </thead>\n",
       "  <tbody>\n",
       "    <tr>\n",
       "      <td>mean</td>\n",
       "      <td>0.115222</td>\n",
       "      <td>0.017241</td>\n",
       "      <td>0.131306</td>\n",
       "      <td>0.167412</td>\n",
       "    </tr>\n",
       "    <tr>\n",
       "      <td>mi</td>\n",
       "      <td>0.074601</td>\n",
       "      <td>0.008919</td>\n",
       "      <td>0.094440</td>\n",
       "      <td>0.116920</td>\n",
       "    </tr>\n",
       "    <tr>\n",
       "      <td>knn</td>\n",
       "      <td>0.055518</td>\n",
       "      <td>0.004528</td>\n",
       "      <td>0.067293</td>\n",
       "      <td>0.089141</td>\n",
       "    </tr>\n",
       "    <tr>\n",
       "      <td>rf</td>\n",
       "      <td>0.039806</td>\n",
       "      <td>0.002732</td>\n",
       "      <td>0.052273</td>\n",
       "      <td>0.062285</td>\n",
       "    </tr>\n",
       "  </tbody>\n",
       "</table>\n",
       "</div>"
      ],
      "text/plain": [
       "              MAE       MSE      RMSE      MAPE\n",
       "methods                                        \n",
       "mean     0.115222  0.017241  0.131306  0.167412\n",
       "mi       0.074601  0.008919  0.094440  0.116920\n",
       "knn      0.055518  0.004528  0.067293  0.089141\n",
       "rf       0.039806  0.002732  0.052273  0.062285"
      ]
     },
     "execution_count": 46,
     "metadata": {},
     "output_type": "execute_result"
    }
   ],
   "source": [
    "final_df_nox"
   ]
  },
  {
   "cell_type": "code",
   "execution_count": null,
   "metadata": {},
   "outputs": [],
   "source": []
  }
 ],
 "metadata": {
  "kernelspec": {
   "display_name": "Python 3",
   "language": "python",
   "name": "python3"
  },
  "language_info": {
   "codemirror_mode": {
    "name": "ipython",
    "version": 3
   },
   "file_extension": ".py",
   "mimetype": "text/x-python",
   "name": "python",
   "nbconvert_exporter": "python",
   "pygments_lexer": "ipython3",
   "version": "3.7.4"
  }
 },
 "nbformat": 4,
 "nbformat_minor": 2
}
