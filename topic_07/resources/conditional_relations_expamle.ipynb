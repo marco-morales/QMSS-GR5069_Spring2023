{
 "cells": [
  {
   "cell_type": "markdown",
   "metadata": {},
   "source": [
    "## Conditional effects and interactions"
   ]
  },
  {
   "cell_type": "code",
   "execution_count": 1,
   "metadata": {},
   "outputs": [],
   "source": [
    "import pandas as pd\n",
    "import numpy as np\n",
    "import matplotlib.pyplot as plt\n",
    "import seaborn as sns\n",
    "import statsmodels.formula.api as sm\n",
    "\n",
    "\n",
    "#please install bartpy by using the command:\n",
    "# pip install git+https://github.com/JakeColtman/bartpy.git --upgrade\n",
    "from bartpy.sklearnmodel import SklearnModel\n",
    "\n",
    "#please install pymc3\n",
    "# !pip install pymc3\n",
    "import pymc3 as pm"
   ]
  },
  {
   "cell_type": "code",
   "execution_count": 2,
   "metadata": {},
   "outputs": [
    {
     "data": {
      "text/html": [
       "<div>\n",
       "<style scoped>\n",
       "    .dataframe tbody tr th:only-of-type {\n",
       "        vertical-align: middle;\n",
       "    }\n",
       "\n",
       "    .dataframe tbody tr th {\n",
       "        vertical-align: top;\n",
       "    }\n",
       "\n",
       "    .dataframe thead th {\n",
       "        text-align: right;\n",
       "    }\n",
       "</style>\n",
       "<table border=\"1\" class=\"dataframe\">\n",
       "  <thead>\n",
       "    <tr style=\"text-align: right;\">\n",
       "      <th></th>\n",
       "      <th>event_id</th>\n",
       "      <th>unix_timestamp</th>\n",
       "      <th>date</th>\n",
       "      <th>state_code</th>\n",
       "      <th>state</th>\n",
       "      <th>state_abbr</th>\n",
       "      <th>mun_code</th>\n",
       "      <th>municipality</th>\n",
       "      <th>detained</th>\n",
       "      <th>total_people_dead</th>\n",
       "      <th>...</th>\n",
       "      <th>army_lethality_diff</th>\n",
       "      <th>navy_lethality_diff</th>\n",
       "      <th>federal_police_lethality_diff</th>\n",
       "      <th>organized_crime_NewIndex</th>\n",
       "      <th>army_NewIndex</th>\n",
       "      <th>navy_NewIndex</th>\n",
       "      <th>federal_police_NewIndex</th>\n",
       "      <th>perfect_lethality</th>\n",
       "      <th>category</th>\n",
       "      <th>global_id</th>\n",
       "    </tr>\n",
       "  </thead>\n",
       "  <tbody>\n",
       "    <tr>\n",
       "      <td>0</td>\n",
       "      <td>1.0</td>\n",
       "      <td>1168927210</td>\n",
       "      <td>2007-01-16</td>\n",
       "      <td>16</td>\n",
       "      <td>Michoacán de Ocampo</td>\n",
       "      <td>MICH</td>\n",
       "      <td>15</td>\n",
       "      <td>Coalcomán de Vázquez Pallares</td>\n",
       "      <td>0</td>\n",
       "      <td>1</td>\n",
       "      <td>...</td>\n",
       "      <td>0</td>\n",
       "      <td>0</td>\n",
       "      <td>0</td>\n",
       "      <td>1.0</td>\n",
       "      <td>NaN</td>\n",
       "      <td>NaN</td>\n",
       "      <td>NaN</td>\n",
       "      <td>1</td>\n",
       "      <td>perfect_lethality</td>\n",
       "      <td>1</td>\n",
       "    </tr>\n",
       "    <tr>\n",
       "      <td>1</td>\n",
       "      <td>2.0</td>\n",
       "      <td>1169013610</td>\n",
       "      <td>2007-01-17</td>\n",
       "      <td>16</td>\n",
       "      <td>Michoacán de Ocampo</td>\n",
       "      <td>MICH</td>\n",
       "      <td>15</td>\n",
       "      <td>Coalcomán de Vázquez Pallares</td>\n",
       "      <td>0</td>\n",
       "      <td>1</td>\n",
       "      <td>...</td>\n",
       "      <td>0</td>\n",
       "      <td>0</td>\n",
       "      <td>0</td>\n",
       "      <td>1.0</td>\n",
       "      <td>NaN</td>\n",
       "      <td>NaN</td>\n",
       "      <td>NaN</td>\n",
       "      <td>1</td>\n",
       "      <td>perfect_lethality</td>\n",
       "      <td>2</td>\n",
       "    </tr>\n",
       "    <tr>\n",
       "      <td>2</td>\n",
       "      <td>3.0</td>\n",
       "      <td>1170136810</td>\n",
       "      <td>2007-01-30</td>\n",
       "      <td>7</td>\n",
       "      <td>Chiapas</td>\n",
       "      <td>CHIS</td>\n",
       "      <td>65</td>\n",
       "      <td>Palenque</td>\n",
       "      <td>0</td>\n",
       "      <td>1</td>\n",
       "      <td>...</td>\n",
       "      <td>0</td>\n",
       "      <td>0</td>\n",
       "      <td>0</td>\n",
       "      <td>NaN</td>\n",
       "      <td>NaN</td>\n",
       "      <td>NaN</td>\n",
       "      <td>NaN</td>\n",
       "      <td>0</td>\n",
       "      <td>no_dead_wounded</td>\n",
       "      <td>3</td>\n",
       "    </tr>\n",
       "    <tr>\n",
       "      <td>3</td>\n",
       "      <td>4.0</td>\n",
       "      <td>1170396010</td>\n",
       "      <td>2007-02-02</td>\n",
       "      <td>15</td>\n",
       "      <td>México</td>\n",
       "      <td>MEX</td>\n",
       "      <td>81</td>\n",
       "      <td>Tecámac</td>\n",
       "      <td>2</td>\n",
       "      <td>0</td>\n",
       "      <td>...</td>\n",
       "      <td>0</td>\n",
       "      <td>-1</td>\n",
       "      <td>0</td>\n",
       "      <td>NaN</td>\n",
       "      <td>NaN</td>\n",
       "      <td>-1.0</td>\n",
       "      <td>NaN</td>\n",
       "      <td>0</td>\n",
       "      <td>no_dead_wounded</td>\n",
       "      <td>4</td>\n",
       "    </tr>\n",
       "    <tr>\n",
       "      <td>4</td>\n",
       "      <td>5.0</td>\n",
       "      <td>1170482410</td>\n",
       "      <td>2007-02-03</td>\n",
       "      <td>25</td>\n",
       "      <td>Sinaloa</td>\n",
       "      <td>SIN</td>\n",
       "      <td>6</td>\n",
       "      <td>Culiacán</td>\n",
       "      <td>0</td>\n",
       "      <td>1</td>\n",
       "      <td>...</td>\n",
       "      <td>0</td>\n",
       "      <td>0</td>\n",
       "      <td>0</td>\n",
       "      <td>1.0</td>\n",
       "      <td>NaN</td>\n",
       "      <td>NaN</td>\n",
       "      <td>NaN</td>\n",
       "      <td>1</td>\n",
       "      <td>perfect_lethality</td>\n",
       "      <td>5</td>\n",
       "    </tr>\n",
       "  </tbody>\n",
       "</table>\n",
       "<p>5 rows × 60 columns</p>\n",
       "</div>"
      ],
      "text/plain": [
       "   event_id  unix_timestamp        date  state_code                state  \\\n",
       "0       1.0      1168927210  2007-01-16          16  Michoacán de Ocampo   \n",
       "1       2.0      1169013610  2007-01-17          16  Michoacán de Ocampo   \n",
       "2       3.0      1170136810  2007-01-30           7              Chiapas   \n",
       "3       4.0      1170396010  2007-02-02          15               México   \n",
       "4       5.0      1170482410  2007-02-03          25              Sinaloa   \n",
       "\n",
       "  state_abbr  mun_code                   municipality  detained  \\\n",
       "0       MICH        15  Coalcomán de Vázquez Pallares         0   \n",
       "1       MICH        15  Coalcomán de Vázquez Pallares         0   \n",
       "2       CHIS        65                       Palenque         0   \n",
       "3        MEX        81                        Tecámac         2   \n",
       "4        SIN         6                       Culiacán         0   \n",
       "\n",
       "   total_people_dead  ...  army_lethality_diff  navy_lethality_diff  \\\n",
       "0                  1  ...                    0                    0   \n",
       "1                  1  ...                    0                    0   \n",
       "2                  1  ...                    0                    0   \n",
       "3                  0  ...                    0                   -1   \n",
       "4                  1  ...                    0                    0   \n",
       "\n",
       "   federal_police_lethality_diff  organized_crime_NewIndex  army_NewIndex  \\\n",
       "0                              0                       1.0            NaN   \n",
       "1                              0                       1.0            NaN   \n",
       "2                              0                       NaN            NaN   \n",
       "3                              0                       NaN            NaN   \n",
       "4                              0                       1.0            NaN   \n",
       "\n",
       "   navy_NewIndex  federal_police_NewIndex  perfect_lethality  \\\n",
       "0            NaN                      NaN                  1   \n",
       "1            NaN                      NaN                  1   \n",
       "2            NaN                      NaN                  0   \n",
       "3           -1.0                      NaN                  0   \n",
       "4            NaN                      NaN                  1   \n",
       "\n",
       "            category  global_id  \n",
       "0  perfect_lethality          1  \n",
       "1  perfect_lethality          2  \n",
       "2    no_dead_wounded          3  \n",
       "3    no_dead_wounded          4  \n",
       "4  perfect_lethality          5  \n",
       "\n",
       "[5 rows x 60 columns]"
      ]
     },
     "execution_count": 2,
     "metadata": {},
     "output_type": "execute_result"
    }
   ],
   "source": [
    "#Import CSV File\n",
    "AllData = pd.read_csv('AllViolenceData_171220.csv')\n",
    "AllData.head()"
   ]
  },
  {
   "cell_type": "markdown",
   "metadata": {},
   "source": [
    "### Conditional effects: a parametric perspective\n",
    "\n",
    "From our long running sample dataset, we are seeking to answer two different questions: \n",
    "\n",
    "1. **are there more expected deaths when combat is heavier?**\n",
    "2. **are there no expected deaths when no weapons are seized?**\n",
    "\n",
    "We start by computing your full interactive model, including **all terms** that constitute the **interactions**. In this case, we're interested in evaluating the effects of long guns and cartridges on confrontations where each armed force participated. \n"
   ]
  },
  {
   "cell_type": "code",
   "execution_count": 3,
   "metadata": {},
   "outputs": [
    {
     "name": "stdout",
     "output_type": "stream",
     "text": [
      "                             OLS Regression Results                             \n",
      "================================================================================\n",
      "Dep. Variable:     organized_crime_dead   R-squared:                       0.159\n",
      "Model:                              OLS   Adj. R-squared:                  0.156\n",
      "Method:                   Least Squares   F-statistic:                     59.67\n",
      "Date:                  Thu, 16 Apr 2020   Prob (F-statistic):          6.11e-187\n",
      "Time:                          21:23:44   Log-Likelihood:                -10556.\n",
      "No. Observations:                  5396   AIC:                         2.115e+04\n",
      "Df Residuals:                      5378   BIC:                         2.127e+04\n",
      "Df Model:                            17                                         \n",
      "Covariance Type:              nonrobust                                         \n",
      "===================================================================================================\n",
      "                                      coef    std err          t      P>|t|      [0.025      0.975]\n",
      "---------------------------------------------------------------------------------------------------\n",
      "Intercept                           0.4189      0.034     12.437      0.000       0.353       0.485\n",
      "organized_crime_wounded             0.3624      0.024     15.240      0.000       0.316       0.409\n",
      "afi                                -0.0419      0.504     -0.083      0.934      -1.030       0.946\n",
      "long_guns_seized                    0.1714      0.017      9.945      0.000       0.138       0.205\n",
      "afi:long_guns_seized                0.0229      0.078      0.292      0.770      -0.131       0.177\n",
      "army                                0.4244      0.056      7.629      0.000       0.315       0.534\n",
      "army:long_guns_seized              -0.0460      0.018     -2.533      0.011      -0.082      -0.010\n",
      "navy                                0.2773      0.157      1.769      0.077      -0.030       0.585\n",
      "navy:long_guns_seized               0.1761      0.042      4.176      0.000       0.093       0.259\n",
      "federal_police                     -0.1113      0.080     -1.389      0.165      -0.269       0.046\n",
      "federal_police:long_guns_seized    -0.0254      0.019     -1.332      0.183      -0.063       0.012\n",
      "cartridge_sezied                    0.0002   9.68e-05      2.368      0.018    3.94e-05       0.000\n",
      "afi:cartridge_sezied               -0.0051      0.003     -1.617      0.106      -0.011       0.001\n",
      "army:cartridge_sezied              -0.0004   9.81e-05     -3.987      0.000      -0.001      -0.000\n",
      "navy:cartridge_sezied              -0.0007      0.000     -3.998      0.000      -0.001      -0.000\n",
      "federal_police:cartridge_sezied    -0.0002      0.000     -1.377      0.169      -0.000    6.43e-05\n",
      "small_arms_seized                  -0.0453      0.019     -2.435      0.015      -0.082      -0.009\n",
      "clips_seized                        0.0003      0.000      0.994      0.320      -0.000       0.001\n",
      "==============================================================================\n",
      "Omnibus:                     5545.531   Durbin-Watson:                   1.862\n",
      "Prob(Omnibus):                  0.000   Jarque-Bera (JB):           596023.131\n",
      "Skew:                           4.883   Prob(JB):                         0.00\n",
      "Kurtosis:                      53.553   Cond. No.                     5.32e+04\n",
      "==============================================================================\n",
      "\n",
      "Warnings:\n",
      "[1] Standard Errors assume that the covariance matrix of the errors is correctly specified.\n",
      "[2] The condition number is large, 5.32e+04. This might indicate that there are\n",
      "strong multicollinearity or other numerical problems.\n"
     ]
    }
   ],
   "source": [
    "ols_interaction = sm.ols(data = AllData, formula = \"\"\"organized_crime_dead ~ organized_crime_wounded + \n",
    "                                                    afi*long_guns_seized + army*long_guns_seized + \n",
    "                                                       navy*long_guns_seized + \n",
    "                                                    federal_police*long_guns_seized +\n",
    "                                                    afi*cartridge_sezied + \n",
    "                                                       army*cartridge_sezied + \n",
    "                                                       navy*cartridge_sezied + \n",
    "                                                       federal_police*cartridge_sezied +\n",
    "                                                       small_arms_seized + \n",
    "                                                       clips_seized\"\"\")\n",
    "ols_interaction = ols_interaction.fit()\n",
    "print(ols_interaction.summary())"
   ]
  },
  {
   "cell_type": "markdown",
   "metadata": {},
   "source": [
    "As means of comparison this is how well this interactive model performs."
   ]
  },
  {
   "cell_type": "code",
   "execution_count": 4,
   "metadata": {},
   "outputs": [
    {
     "data": {
      "image/png": "[encoded data removed]",
      "text/plain": [
       "<Figure size 576x720 with 1 Axes>"
      ]
     },
     "metadata": {
      "needs_background": "light"
     },
     "output_type": "display_data"
    }
   ],
   "source": [
    "AllData['fitted'] = pd.Series(ols_interaction.fittedvalues) #add column of fitted values\n",
    "ols_df = AllData[['organized_crime_dead', 'fitted']]\n",
    "\n",
    "plt.figure(figsize=(8,10))\n",
    "x = np.linspace(0,30)\n",
    "plt.scatter('organized_crime_dead','fitted', data= ols_df)\n",
    "plt.plot(x, x, '-r', label='y=x', color = 'grey')\n",
    "plt.xlim(-1, 30)\n",
    "plt.ylim(-1, 30)\n",
    "plt.xlabel('organized_crime_dead')\n",
    "plt.ylabel('fitted')\n",
    "plt.grid()\n",
    "plt.show()"
   ]
  },
  {
   "cell_type": "markdown",
   "metadata": {},
   "source": [
    "![ols_fit-1.png](ols_fit-1.png 'ols_fit-1.png')\n",
    "\n",
    "\n",
    "\n",
    "#### How do we compute interactive effects?\n",
    "\n",
    "Looking at the coefficients of the interaction - such as `long_guns_seized:federal_police` is not sufficient to get the estimated interactive effects. You need to include all constitutive terms for the particular effect you seek to estimate.  \n",
    "\n",
    "To do that, first, we need to extract the vector with the estimated coefficients from the model, as well as the the corresponding stantard errors from the estimated covariance matrix."
   ]
  },
  {
   "cell_type": "code",
   "execution_count": 5,
   "metadata": {},
   "outputs": [],
   "source": [
    "beta = ols_interaction.params                  # extracts a vector of betas -- coefficients\n",
    "varcov = ols_interaction.cov_params().values   # extracts estimated covariance matrix\n",
    "var = varcov.diagonal()                        # extracts a vector with variances"
   ]
  },
  {
   "cell_type": "code",
   "execution_count": 6,
   "metadata": {},
   "outputs": [
    {
     "data": {
      "text/plain": [
       "Intercept                          0.418864\n",
       "organized_crime_wounded            0.362405\n",
       "afi                               -0.041927\n",
       "long_guns_seized                   0.171381\n",
       "afi:long_guns_seized               0.022901\n",
       "army                               0.424445\n",
       "army:long_guns_seized             -0.045957\n",
       "navy                               0.277263\n",
       "navy:long_guns_seized              0.176116\n",
       "federal_police                    -0.111346\n",
       "federal_police:long_guns_seized   -0.025381\n",
       "cartridge_sezied                   0.000229\n",
       "afi:cartridge_sezied              -0.005052\n",
       "army:cartridge_sezied             -0.000391\n",
       "navy:cartridge_sezied             -0.000691\n",
       "federal_police:cartridge_sezied   -0.000152\n",
       "small_arms_seized                 -0.045297\n",
       "clips_seized                       0.000313\n",
       "dtype: float64"
      ]
     },
     "execution_count": 6,
     "metadata": {},
     "output_type": "execute_result"
    }
   ],
   "source": [
    "beta"
   ]
  },
  {
   "cell_type": "code",
   "execution_count": 7,
   "metadata": {},
   "outputs": [
    {
     "data": {
      "text/plain": [
       "array([1.13418396e-03, 5.65471641e-04, 2.54069972e-01, 2.96965467e-04,\n",
       "       6.14710761e-03, 3.09528742e-03, 3.29069881e-04, 2.45743686e-02,\n",
       "       1.77900180e-03, 6.42852744e-03, 3.63059870e-04, 9.37030288e-09,\n",
       "       9.75370026e-06, 9.62411194e-09, 2.98662426e-08, 1.21554565e-08,\n",
       "       3.46013712e-04, 9.89653302e-08])"
      ]
     },
     "execution_count": 7,
     "metadata": {},
     "output_type": "execute_result"
    }
   ],
   "source": [
    "var"
   ]
  },
  {
   "cell_type": "markdown",
   "metadata": {},
   "source": [
    "#### Are there more expected deaths when combat is heavier?\n",
    "\n",
    "To address the first question, we have to assume that a high number of long guns seized is a proxy for heavy combat. That is, we need to assume that it is more likely that more long guns are **used and seized** when heavy combat takes place. Therefore, we'll compute the marginal effect of 5 seized long guns on the expected number of dead on events that involve the Navy. \n",
    "\n",
    "We begin by defining an appropriate quantity for our conditioning variable `long_guns_seized`"
   ]
  },
  {
   "cell_type": "code",
   "execution_count": 8,
   "metadata": {},
   "outputs": [],
   "source": [
    "long_guns = 5"
   ]
  },
  {
   "cell_type": "markdown",
   "metadata": {},
   "source": [
    "Then, we use our known formula to compute the appropriate marginal effect: "
   ]
  },
  {
   "cell_type": "code",
   "execution_count": 9,
   "metadata": {},
   "outputs": [
    {
     "data": {
      "text/plain": [
       "1.1578425360536762"
      ]
     },
     "execution_count": 9,
     "metadata": {},
     "output_type": "execute_result"
    }
   ],
   "source": [
    "mfx_1 = beta['navy'] + (beta['navy:long_guns_seized']*long_guns)\n",
    "mfx_1"
   ]
  },
  {
   "cell_type": "markdown",
   "metadata": {},
   "source": [
    "Similarly, we use our known formula to compute the appropriate standard errors, per the variance formula:"
   ]
  },
  {
   "cell_type": "code",
   "execution_count": 10,
   "metadata": {},
   "outputs": [
    {
     "data": {
      "text/plain": [
       "0.21042872477937954"
      ]
     },
     "execution_count": 10,
     "metadata": {},
     "output_type": "execute_result"
    }
   ],
   "source": [
    "mfx_1_se = (var[7] + (long_guns**2)*var[8] +\n",
    "           2*long_guns*varcov[7, 8])**0.5\n",
    "mfx_1_se"
   ]
  },
  {
   "cell_type": "markdown",
   "metadata": {},
   "source": [
    "It is now easy to compute the lower and higher bounds of the marginal effect:"
   ]
  },
  {
   "cell_type": "code",
   "execution_count": 11,
   "metadata": {},
   "outputs": [
    {
     "name": "stdout",
     "output_type": "stream",
     "text": [
      "5 seized long guns increase the expected number of dead in events that involve the Navy by 1.16 [ 0.75 , 1.57 ].\n"
     ]
    }
   ],
   "source": [
    "mfx_1_lo_se = mfx_1 - 1.96* mfx_1_se  # computing a lower bound se\n",
    "mfx_1_hi_se = mfx_1 + 1.96* mfx_1_se  # computing the higher bound se\n",
    "\n",
    "print(long_guns,\"seized long guns increase the expected number of dead in events that involve the Navy by\",\n",
    "     round(mfx_1, 2), \"[\", round(mfx_1_lo_se, 2),\",\",round(mfx_1_hi_se, 2), \"].\")"
   ]
  },
  {
   "cell_type": "markdown",
   "metadata": {},
   "source": [
    "#### Are there no expected deaths when no weapons are seized?\n",
    "\n",
    "To address the second question, we repeat the exercise and compute the marginal effect on the expected number of dead of events that involve the Army when no long guns (zero) are seized. This value is now assigned to our  conditioning variable `long_guns_seized`."
   ]
  },
  {
   "cell_type": "code",
   "execution_count": 12,
   "metadata": {},
   "outputs": [],
   "source": [
    "long_guns_null = 0"
   ]
  },
  {
   "cell_type": "markdown",
   "metadata": {},
   "source": [
    "Again, we use our known formula to compute the appropriate marginal effect. Note that the second term is effectively dropped as the value of `long_guns_seized` is zero (0). \n"
   ]
  },
  {
   "cell_type": "code",
   "execution_count": 13,
   "metadata": {},
   "outputs": [
    {
     "data": {
      "text/plain": [
       "0.424445330218186"
      ]
     },
     "execution_count": 13,
     "metadata": {},
     "output_type": "execute_result"
    }
   ],
   "source": [
    "mfx_2 = beta['army'] + beta['army:long_guns_seized']*long_guns_null\n",
    "mfx_2"
   ]
  },
  {
   "cell_type": "markdown",
   "metadata": {},
   "source": [
    "We compute the appropriate standard errors, per the variance formula, with the same caveat as above:"
   ]
  },
  {
   "cell_type": "code",
   "execution_count": 14,
   "metadata": {},
   "outputs": [
    {
     "data": {
      "text/plain": [
       "0.055635307283242466"
      ]
     },
     "execution_count": 14,
     "metadata": {},
     "output_type": "execute_result"
    }
   ],
   "source": [
    "mfx_2_se = (var[5] + (long_guns_null**2)*var[6] + 2*long_guns_null*varcov[5,6])**0.5\n",
    "mfx_2_se"
   ]
  },
  {
   "cell_type": "markdown",
   "metadata": {},
   "source": [
    "We can now compute the lower and higher bounds of the marginal effect:"
   ]
  },
  {
   "cell_type": "code",
   "execution_count": 15,
   "metadata": {},
   "outputs": [
    {
     "name": "stdout",
     "output_type": "stream",
     "text": [
      "0 seized long guns produce an expected number of dead in events that involve the Army of 0.42 [ 0.32 , 0.53 ].\n"
     ]
    }
   ],
   "source": [
    "mfx_2_lo_se = mfx_2 - 1.96* mfx_2_se  # computing a lower bound se\n",
    "mfx_2_hi_se = mfx_2 + 1.96* mfx_2_se  # computing the higher bound se\n",
    "\n",
    "print(long_guns_null, \"seized long guns produce an expected number of dead in events that involve the Army of\",\n",
    "             round(mfx_2, 2), \"[\", round(mfx_2_lo_se, 2), \",\", round(mfx_2_hi_se, 2),\"].\"\n",
    "             )"
   ]
  },
  {
   "cell_type": "markdown",
   "metadata": {},
   "source": [
    "### Conditional effects: a non-parametric perspective\n",
    "\n",
    "From a different perspective, we try to quantify conditional effects but using predicted values using predictions from a **Bayesian Additive Regression Trees** (BART) model.\n",
    "\n",
    "For this specific purpose, we train BART on all of our data (no test or validation sets), and separate only the Y vector from all of our predictors to create two matrices. Note that we need to pass the data frame through a processing function (`bartModelMatrix()`) so that it can be read seamlessly. "
   ]
  },
  {
   "cell_type": "code",
   "execution_count": 4,
   "metadata": {},
   "outputs": [],
   "source": [
    "# target variable for training\n",
    "y_train = AllData['organized_crime_dead'].values\n",
    "\n",
    "\n",
    "# predictors to be re-used for multiple predictions\n",
    "x_train_base = AllData[['organized_crime_wounded', 'afi', 'army', 'navy', 'federal_police', \n",
    "     'long_guns_seized', 'small_arms_seized', 'clips_seized', \n",
    "     'cartridge_sezied', 'organized_crime_dead']]\n",
    "\n",
    "# explanatory variables for training\n",
    "x_train = np.asmatrix(x_train_base)"
   ]
  },
  {
   "cell_type": "markdown",
   "metadata": {},
   "source": [
    "#### fitting BART and diagnostics\n",
    "\n",
    "BART needs little tuning and usually works well with default settings for `m = 200` and default priors for other parameters. \n"
   ]
  },
  {
   "cell_type": "code",
   "execution_count": 95,
   "metadata": {},
   "outputs": [
    {
     "data": {
      "text/plain": [
       "(5396,)"
      ]
     },
     "execution_count": 95,
     "metadata": {},
     "output_type": "execute_result"
    }
   ],
   "source": [
    "# fitting bart on the training data\n",
    "model = SklearnModel()\n",
    "bart_fit = model.fit(x_train_base, y_train)"
   ]
  },
  {
   "cell_type": "markdown",
   "metadata": {},
   "source": [
    "Once fit, we diagnose the model. Note how well BART fits the observed data. Compared to the fit of the OLS interactive model, it is quite an improvement due to BART's ability to capture non-linearities and interactions. "
   ]
  },
  {
   "cell_type": "code",
   "execution_count": null,
   "metadata": {},
   "outputs": [],
   "source": [
    "plt.figure(figsize=(8,8))\n",
    "plt.scatter(y_train, bart_fit.predict(x_train_base))\n",
    "plt.xlabel('y_train')\n",
    "plt.ylabel('bart_fit$yhat.train.mean')"
   ]
  },
  {
   "cell_type": "markdown",
   "metadata": {},
   "source": [
    "![fit_observed-1.png](fit_observed-1.png 'fit_observed-1.png')\n",
    "\n",
    "A different view of the plot above, confirms the same pattern: most errors produced by BART are very small and concentrated very close to zero. \n"
   ]
  },
  {
   "cell_type": "code",
   "execution_count": null,
   "metadata": {},
   "outputs": [],
   "source": [
    "plt.figure(figsize=(8,8))\n",
    "plt.hist(y_train - bart_fit.predict(x_train_base))\n",
    "plt.title(\"Histogram of y_train - bart_fit$yhat.train.mean\")"
   ]
  },
  {
   "cell_type": "markdown",
   "metadata": {},
   "source": [
    "![unnamed-chunk-13.png](unnamed-chunk-13-1.png 'unnamed-chunk-13-1.png')\n",
    "\n",
    "#### how do we compute marginal effects?\n",
    "\n",
    "To compute the marginal effects, we can use the predictive posterior generated by fitting BART to all our data and create predictions changing the values of specific predictors to values of interest. In our case, we are interested in the change in the expected number of `organized_crime_dead` given a specific number of `long_guns_seized` (say, between 0 and 20) for events where the navy participated (`navy == 1`). \n",
    "\n",
    "To do that, we must:\n",
    "\n",
    "1. create a new `x_train` matrix where all values of `navy` are set to `1` and `long_guns_seized` to a specific value between 0 and 20, maintaining the values of all other predictors unchanged\n",
    "2. use this new `x_train` matrix and BART's predictive posterior to generate synthetic values for each combination of `navy` and `long_guns_seized`\n",
    "3. this produces a new `y_test` matrix that summarizes `L = 1000` simulatons for ach of our `N = 5396` events, which we summarize by averaging over `N` to get a single `M x 1` vector of synthetic values for eacg combinations of values we are iterating over\n",
    "4. we collect those vectors in a matrix of simulations with 21 columns for eacg value of `long_guns_seized` we are allowing to change\n",
    "\n",
    "Through this process, we hold the value of `navy` constant at `1` and conditional on that value, we iterate through values for `long_guns_seized` giving us an equivalent view of the conditional effects we are seeking to evaluate."
   ]
  },
  {
   "cell_type": "code",
   "execution_count": 107,
   "metadata": {},
   "outputs": [
    {
     "name": "stdout",
     "output_type": "stream",
     "text": [
      "synthetic values for long guns seized ==  0\n"
     ]
    },
    {
     "name": "stderr",
     "output_type": "stream",
     "text": [
      "Auto-assigning NUTS sampler...\n",
      "Initializing NUTS using jitter+adapt_diag...\n",
      "Multiprocess sampling (2 chains in 2 jobs)\n",
      "NUTS: [σ, μ]\n",
      "Sampling 2 chains, 0 divergences: 100%|██████████| 4000/4000 [00:03<00:00, 1093.05draws/s]\n",
      "/Users/ryan/anaconda3/anaconda3/lib/python3.7/site-packages/pymc3/sampling.py:1247: UserWarning: samples parameter is smaller than nchains times ndraws, some draws and/or chains may not be represented in the returned posterior predictive sample\n",
      "  \"samples parameter is smaller than nchains times ndraws, some draws \"\n",
      "100%|██████████| 1000/1000 [00:01<00:00, 714.72it/s]\n"
     ]
    },
    {
     "name": "stdout",
     "output_type": "stream",
     "text": [
      "synthetic values for long guns seized ==  1\n"
     ]
    },
    {
     "name": "stderr",
     "output_type": "stream",
     "text": [
      "Auto-assigning NUTS sampler...\n",
      "Initializing NUTS using jitter+adapt_diag...\n",
      "Multiprocess sampling (2 chains in 2 jobs)\n",
      "NUTS: [σ, μ]\n",
      "Sampling 2 chains, 0 divergences: 100%|██████████| 4000/4000 [00:03<00:00, 1147.38draws/s]\n",
      "/Users/ryan/anaconda3/anaconda3/lib/python3.7/site-packages/pymc3/sampling.py:1247: UserWarning: samples parameter is smaller than nchains times ndraws, some draws and/or chains may not be represented in the returned posterior predictive sample\n",
      "  \"samples parameter is smaller than nchains times ndraws, some draws \"\n",
      "100%|██████████| 1000/1000 [00:01<00:00, 699.38it/s]\n"
     ]
    },
    {
     "name": "stdout",
     "output_type": "stream",
     "text": [
      "synthetic values for long guns seized ==  2\n"
     ]
    },
    {
     "name": "stderr",
     "output_type": "stream",
     "text": [
      "Auto-assigning NUTS sampler...\n",
      "Initializing NUTS using jitter+adapt_diag...\n",
      "Multiprocess sampling (2 chains in 2 jobs)\n",
      "NUTS: [σ, μ]\n",
      "Sampling 2 chains, 0 divergences: 100%|██████████| 4000/4000 [00:05<00:00, 717.31draws/s] \n",
      "/Users/ryan/anaconda3/anaconda3/lib/python3.7/site-packages/pymc3/sampling.py:1247: UserWarning: samples parameter is smaller than nchains times ndraws, some draws and/or chains may not be represented in the returned posterior predictive sample\n",
      "  \"samples parameter is smaller than nchains times ndraws, some draws \"\n",
      "100%|██████████| 1000/1000 [00:02<00:00, 494.99it/s]\n"
     ]
    },
    {
     "name": "stdout",
     "output_type": "stream",
     "text": [
      "synthetic values for long guns seized ==  3\n"
     ]
    },
    {
     "name": "stderr",
     "output_type": "stream",
     "text": [
      "Auto-assigning NUTS sampler...\n",
      "Initializing NUTS using jitter+adapt_diag...\n",
      "Multiprocess sampling (2 chains in 2 jobs)\n",
      "NUTS: [σ, μ]\n",
      "Sampling 2 chains, 0 divergences: 100%|██████████| 4000/4000 [00:04<00:00, 939.32draws/s] \n",
      "/Users/ryan/anaconda3/anaconda3/lib/python3.7/site-packages/pymc3/sampling.py:1247: UserWarning: samples parameter is smaller than nchains times ndraws, some draws and/or chains may not be represented in the returned posterior predictive sample\n",
      "  \"samples parameter is smaller than nchains times ndraws, some draws \"\n",
      "100%|██████████| 1000/1000 [00:01<00:00, 715.31it/s]\n"
     ]
    },
    {
     "name": "stdout",
     "output_type": "stream",
     "text": [
      "synthetic values for long guns seized ==  4\n"
     ]
    },
    {
     "name": "stderr",
     "output_type": "stream",
     "text": [
      "Auto-assigning NUTS sampler...\n",
      "Initializing NUTS using jitter+adapt_diag...\n",
      "Multiprocess sampling (2 chains in 2 jobs)\n",
      "NUTS: [σ, μ]\n",
      "Sampling 2 chains, 0 divergences: 100%|██████████| 4000/4000 [00:04<00:00, 956.75draws/s] \n",
      "/Users/ryan/anaconda3/anaconda3/lib/python3.7/site-packages/pymc3/sampling.py:1247: UserWarning: samples parameter is smaller than nchains times ndraws, some draws and/or chains may not be represented in the returned posterior predictive sample\n",
      "  \"samples parameter is smaller than nchains times ndraws, some draws \"\n",
      "100%|██████████| 1000/1000 [00:01<00:00, 654.13it/s]\n"
     ]
    },
    {
     "name": "stdout",
     "output_type": "stream",
     "text": [
      "synthetic values for long guns seized ==  5\n"
     ]
    },
    {
     "name": "stderr",
     "output_type": "stream",
     "text": [
      "Auto-assigning NUTS sampler...\n",
      "Initializing NUTS using jitter+adapt_diag...\n",
      "Multiprocess sampling (2 chains in 2 jobs)\n",
      "NUTS: [σ, μ]\n",
      "Sampling 2 chains, 0 divergences: 100%|██████████| 4000/4000 [00:04<00:00, 975.26draws/s] \n",
      "/Users/ryan/anaconda3/anaconda3/lib/python3.7/site-packages/pymc3/sampling.py:1247: UserWarning: samples parameter is smaller than nchains times ndraws, some draws and/or chains may not be represented in the returned posterior predictive sample\n",
      "  \"samples parameter is smaller than nchains times ndraws, some draws \"\n",
      "100%|██████████| 1000/1000 [00:01<00:00, 694.77it/s]\n"
     ]
    },
    {
     "name": "stdout",
     "output_type": "stream",
     "text": [
      "synthetic values for long guns seized ==  6\n"
     ]
    },
    {
     "name": "stderr",
     "output_type": "stream",
     "text": [
      "Auto-assigning NUTS sampler...\n",
      "Initializing NUTS using jitter+adapt_diag...\n",
      "Multiprocess sampling (2 chains in 2 jobs)\n",
      "NUTS: [σ, μ]\n",
      "Sampling 2 chains, 0 divergences: 100%|██████████| 4000/4000 [00:04<00:00, 973.77draws/s] \n",
      "/Users/ryan/anaconda3/anaconda3/lib/python3.7/site-packages/pymc3/sampling.py:1247: UserWarning: samples parameter is smaller than nchains times ndraws, some draws and/or chains may not be represented in the returned posterior predictive sample\n",
      "  \"samples parameter is smaller than nchains times ndraws, some draws \"\n",
      "100%|██████████| 1000/1000 [00:01<00:00, 700.78it/s]\n"
     ]
    },
    {
     "name": "stdout",
     "output_type": "stream",
     "text": [
      "synthetic values for long guns seized ==  7\n"
     ]
    },
    {
     "name": "stderr",
     "output_type": "stream",
     "text": [
      "Auto-assigning NUTS sampler...\n",
      "Initializing NUTS using jitter+adapt_diag...\n",
      "Multiprocess sampling (2 chains in 2 jobs)\n",
      "NUTS: [σ, μ]\n",
      "Sampling 2 chains, 0 divergences: 100%|██████████| 4000/4000 [00:04<00:00, 854.14draws/s] \n",
      "/Users/ryan/anaconda3/anaconda3/lib/python3.7/site-packages/pymc3/sampling.py:1247: UserWarning: samples parameter is smaller than nchains times ndraws, some draws and/or chains may not be represented in the returned posterior predictive sample\n",
      "  \"samples parameter is smaller than nchains times ndraws, some draws \"\n",
      "100%|██████████| 1000/1000 [00:01<00:00, 673.30it/s]\n"
     ]
    },
    {
     "name": "stdout",
     "output_type": "stream",
     "text": [
      "synthetic values for long guns seized ==  8\n"
     ]
    },
    {
     "name": "stderr",
     "output_type": "stream",
     "text": [
      "Auto-assigning NUTS sampler...\n",
      "Initializing NUTS using jitter+adapt_diag...\n",
      "Multiprocess sampling (2 chains in 2 jobs)\n",
      "NUTS: [σ, μ]\n",
      "Sampling 2 chains, 0 divergences: 100%|██████████| 4000/4000 [00:05<00:00, 700.83draws/s]\n",
      "/Users/ryan/anaconda3/anaconda3/lib/python3.7/site-packages/pymc3/sampling.py:1247: UserWarning: samples parameter is smaller than nchains times ndraws, some draws and/or chains may not be represented in the returned posterior predictive sample\n",
      "  \"samples parameter is smaller than nchains times ndraws, some draws \"\n",
      "100%|██████████| 1000/1000 [00:01<00:00, 524.56it/s]\n"
     ]
    },
    {
     "name": "stdout",
     "output_type": "stream",
     "text": [
      "synthetic values for long guns seized ==  9\n"
     ]
    },
    {
     "name": "stderr",
     "output_type": "stream",
     "text": [
      "Auto-assigning NUTS sampler...\n",
      "Initializing NUTS using jitter+adapt_diag...\n",
      "Multiprocess sampling (2 chains in 2 jobs)\n",
      "NUTS: [σ, μ]\n",
      "Sampling 2 chains, 0 divergences: 100%|██████████| 4000/4000 [00:04<00:00, 850.84draws/s] \n",
      "/Users/ryan/anaconda3/anaconda3/lib/python3.7/site-packages/pymc3/sampling.py:1247: UserWarning: samples parameter is smaller than nchains times ndraws, some draws and/or chains may not be represented in the returned posterior predictive sample\n",
      "  \"samples parameter is smaller than nchains times ndraws, some draws \"\n",
      "100%|██████████| 1000/1000 [00:01<00:00, 575.54it/s]\n"
     ]
    },
    {
     "name": "stdout",
     "output_type": "stream",
     "text": [
      "synthetic values for long guns seized ==  10\n"
     ]
    },
    {
     "name": "stderr",
     "output_type": "stream",
     "text": [
      "Auto-assigning NUTS sampler...\n",
      "Initializing NUTS using jitter+adapt_diag...\n",
      "Multiprocess sampling (2 chains in 2 jobs)\n",
      "NUTS: [σ, μ]\n",
      "Sampling 2 chains, 0 divergences: 100%|██████████| 4000/4000 [00:04<00:00, 971.79draws/s] \n",
      "/Users/ryan/anaconda3/anaconda3/lib/python3.7/site-packages/pymc3/sampling.py:1247: UserWarning: samples parameter is smaller than nchains times ndraws, some draws and/or chains may not be represented in the returned posterior predictive sample\n",
      "  \"samples parameter is smaller than nchains times ndraws, some draws \"\n",
      "100%|██████████| 1000/1000 [00:01<00:00, 670.13it/s]\n"
     ]
    },
    {
     "name": "stdout",
     "output_type": "stream",
     "text": [
      "synthetic values for long guns seized ==  11\n"
     ]
    },
    {
     "name": "stderr",
     "output_type": "stream",
     "text": [
      "Auto-assigning NUTS sampler...\n",
      "Initializing NUTS using jitter+adapt_diag...\n",
      "Multiprocess sampling (2 chains in 2 jobs)\n",
      "NUTS: [σ, μ]\n",
      "Sampling 2 chains, 0 divergences: 100%|██████████| 4000/4000 [00:04<00:00, 843.55draws/s] \n",
      "/Users/ryan/anaconda3/anaconda3/lib/python3.7/site-packages/pymc3/sampling.py:1247: UserWarning: samples parameter is smaller than nchains times ndraws, some draws and/or chains may not be represented in the returned posterior predictive sample\n",
      "  \"samples parameter is smaller than nchains times ndraws, some draws \"\n",
      "100%|██████████| 1000/1000 [00:01<00:00, 542.10it/s]\n"
     ]
    },
    {
     "name": "stdout",
     "output_type": "stream",
     "text": [
      "synthetic values for long guns seized ==  12\n"
     ]
    },
    {
     "name": "stderr",
     "output_type": "stream",
     "text": [
      "Auto-assigning NUTS sampler...\n",
      "Initializing NUTS using jitter+adapt_diag...\n",
      "Multiprocess sampling (2 chains in 2 jobs)\n",
      "NUTS: [σ, μ]\n",
      "Sampling 2 chains, 0 divergences: 100%|██████████| 4000/4000 [00:03<00:00, 1136.81draws/s]\n",
      "/Users/ryan/anaconda3/anaconda3/lib/python3.7/site-packages/pymc3/sampling.py:1247: UserWarning: samples parameter is smaller than nchains times ndraws, some draws and/or chains may not be represented in the returned posterior predictive sample\n",
      "  \"samples parameter is smaller than nchains times ndraws, some draws \"\n",
      "100%|██████████| 1000/1000 [00:01<00:00, 733.96it/s]\n"
     ]
    },
    {
     "name": "stdout",
     "output_type": "stream",
     "text": [
      "synthetic values for long guns seized ==  13\n"
     ]
    },
    {
     "name": "stderr",
     "output_type": "stream",
     "text": [
      "Auto-assigning NUTS sampler...\n",
      "Initializing NUTS using jitter+adapt_diag...\n",
      "Multiprocess sampling (2 chains in 2 jobs)\n",
      "NUTS: [σ, μ]\n",
      "Sampling 2 chains, 0 divergences: 100%|██████████| 4000/4000 [00:04<00:00, 891.24draws/s] \n",
      "/Users/ryan/anaconda3/anaconda3/lib/python3.7/site-packages/pymc3/sampling.py:1247: UserWarning: samples parameter is smaller than nchains times ndraws, some draws and/or chains may not be represented in the returned posterior predictive sample\n",
      "  \"samples parameter is smaller than nchains times ndraws, some draws \"\n",
      "100%|██████████| 1000/1000 [00:01<00:00, 710.89it/s]\n"
     ]
    },
    {
     "name": "stdout",
     "output_type": "stream",
     "text": [
      "synthetic values for long guns seized ==  14\n"
     ]
    },
    {
     "name": "stderr",
     "output_type": "stream",
     "text": [
      "Auto-assigning NUTS sampler...\n",
      "Initializing NUTS using jitter+adapt_diag...\n",
      "Multiprocess sampling (2 chains in 2 jobs)\n",
      "NUTS: [σ, μ]\n",
      "Sampling 2 chains, 0 divergences: 100%|██████████| 4000/4000 [00:03<00:00, 1096.71draws/s]\n",
      "/Users/ryan/anaconda3/anaconda3/lib/python3.7/site-packages/pymc3/sampling.py:1247: UserWarning: samples parameter is smaller than nchains times ndraws, some draws and/or chains may not be represented in the returned posterior predictive sample\n",
      "  \"samples parameter is smaller than nchains times ndraws, some draws \"\n",
      "100%|██████████| 1000/1000 [00:01<00:00, 693.10it/s]\n"
     ]
    },
    {
     "name": "stdout",
     "output_type": "stream",
     "text": [
      "synthetic values for long guns seized ==  15\n"
     ]
    },
    {
     "name": "stderr",
     "output_type": "stream",
     "text": [
      "Auto-assigning NUTS sampler...\n",
      "Initializing NUTS using jitter+adapt_diag...\n",
      "Multiprocess sampling (2 chains in 2 jobs)\n",
      "NUTS: [σ, μ]\n",
      "Sampling 2 chains, 0 divergences: 100%|██████████| 4000/4000 [00:05<00:00, 748.83draws/s] \n",
      "/Users/ryan/anaconda3/anaconda3/lib/python3.7/site-packages/pymc3/sampling.py:1247: UserWarning: samples parameter is smaller than nchains times ndraws, some draws and/or chains may not be represented in the returned posterior predictive sample\n",
      "  \"samples parameter is smaller than nchains times ndraws, some draws \"\n",
      "100%|██████████| 1000/1000 [00:01<00:00, 715.21it/s]\n"
     ]
    },
    {
     "name": "stdout",
     "output_type": "stream",
     "text": [
      "synthetic values for long guns seized ==  16\n"
     ]
    },
    {
     "name": "stderr",
     "output_type": "stream",
     "text": [
      "Auto-assigning NUTS sampler...\n",
      "Initializing NUTS using jitter+adapt_diag...\n",
      "Multiprocess sampling (2 chains in 2 jobs)\n",
      "NUTS: [σ, μ]\n",
      "Sampling 2 chains, 0 divergences: 100%|██████████| 4000/4000 [00:03<00:00, 1143.45draws/s]\n",
      "/Users/ryan/anaconda3/anaconda3/lib/python3.7/site-packages/pymc3/sampling.py:1247: UserWarning: samples parameter is smaller than nchains times ndraws, some draws and/or chains may not be represented in the returned posterior predictive sample\n",
      "  \"samples parameter is smaller than nchains times ndraws, some draws \"\n",
      "100%|██████████| 1000/1000 [00:01<00:00, 711.83it/s]\n"
     ]
    },
    {
     "name": "stdout",
     "output_type": "stream",
     "text": [
      "synthetic values for long guns seized ==  17\n"
     ]
    },
    {
     "name": "stderr",
     "output_type": "stream",
     "text": [
      "Auto-assigning NUTS sampler...\n",
      "Initializing NUTS using jitter+adapt_diag...\n",
      "Multiprocess sampling (2 chains in 2 jobs)\n",
      "NUTS: [σ, μ]\n",
      "Sampling 2 chains, 0 divergences: 100%|██████████| 4000/4000 [00:04<00:00, 931.14draws/s] \n",
      "/Users/ryan/anaconda3/anaconda3/lib/python3.7/site-packages/pymc3/sampling.py:1247: UserWarning: samples parameter is smaller than nchains times ndraws, some draws and/or chains may not be represented in the returned posterior predictive sample\n",
      "  \"samples parameter is smaller than nchains times ndraws, some draws \"\n",
      "100%|██████████| 1000/1000 [00:02<00:00, 491.50it/s]\n"
     ]
    },
    {
     "name": "stdout",
     "output_type": "stream",
     "text": [
      "synthetic values for long guns seized ==  18\n"
     ]
    },
    {
     "name": "stderr",
     "output_type": "stream",
     "text": [
      "Auto-assigning NUTS sampler...\n",
      "Initializing NUTS using jitter+adapt_diag...\n",
      "Multiprocess sampling (2 chains in 2 jobs)\n",
      "NUTS: [σ, μ]\n",
      "Sampling 2 chains, 0 divergences: 100%|██████████| 4000/4000 [00:03<00:00, 1054.59draws/s]\n",
      "/Users/ryan/anaconda3/anaconda3/lib/python3.7/site-packages/pymc3/sampling.py:1247: UserWarning: samples parameter is smaller than nchains times ndraws, some draws and/or chains may not be represented in the returned posterior predictive sample\n",
      "  \"samples parameter is smaller than nchains times ndraws, some draws \"\n",
      "100%|██████████| 1000/1000 [00:01<00:00, 677.44it/s]\n"
     ]
    },
    {
     "name": "stdout",
     "output_type": "stream",
     "text": [
      "synthetic values for long guns seized ==  19\n"
     ]
    },
    {
     "name": "stderr",
     "output_type": "stream",
     "text": [
      "Auto-assigning NUTS sampler...\n",
      "Initializing NUTS using jitter+adapt_diag...\n",
      "Multiprocess sampling (2 chains in 2 jobs)\n",
      "NUTS: [σ, μ]\n",
      "Sampling 2 chains, 0 divergences: 100%|██████████| 4000/4000 [00:05<00:00, 723.15draws/s] \n",
      "/Users/ryan/anaconda3/anaconda3/lib/python3.7/site-packages/pymc3/sampling.py:1247: UserWarning: samples parameter is smaller than nchains times ndraws, some draws and/or chains may not be represented in the returned posterior predictive sample\n",
      "  \"samples parameter is smaller than nchains times ndraws, some draws \"\n",
      "100%|██████████| 1000/1000 [00:01<00:00, 587.72it/s]\n"
     ]
    },
    {
     "name": "stdout",
     "output_type": "stream",
     "text": [
      "synthetic values for long guns seized ==  20\n"
     ]
    },
    {
     "name": "stderr",
     "output_type": "stream",
     "text": [
      "Auto-assigning NUTS sampler...\n",
      "Initializing NUTS using jitter+adapt_diag...\n",
      "Multiprocess sampling (2 chains in 2 jobs)\n",
      "NUTS: [σ, μ]\n",
      "Sampling 2 chains, 0 divergences: 100%|██████████| 4000/4000 [00:05<00:00, 799.96draws/s] \n",
      "/Users/ryan/anaconda3/anaconda3/lib/python3.7/site-packages/pymc3/sampling.py:1247: UserWarning: samples parameter is smaller than nchains times ndraws, some draws and/or chains may not be represented in the returned posterior predictive sample\n",
      "  \"samples parameter is smaller than nchains times ndraws, some draws \"\n",
      "100%|██████████| 1000/1000 [00:01<00:00, 695.91it/s]\n"
     ]
    }
   ],
   "source": [
    "x_test = x_train.copy()\n",
    "x_test['navy'] = 1\n",
    "\n",
    "n = 1000\n",
    "synth_vals= np.zeros((n, 21))\n",
    "for i in range(21): \n",
    "    x_test['long_guns_seized'] = i\n",
    "    print(\"synthetic values for long guns seized == \", i)\n",
    "    \n",
    "    # creating synthetic values from the predictive posterior\n",
    "\n",
    "    with pm.Model() as model_g:\n",
    "        μ = pm.Uniform('μ', lower=0, upper=29)\n",
    "        σ = pm.HalfNormal('σ', sd=10)\n",
    "        y = pm.Normal('y', mu=μ, sd=σ, observed=bart_fit.predict(x_test)) #this gives the predicted y's\n",
    "        trace_g = pm.sample(1000, tune=1000)\n",
    "\n",
    "    # create prediction matrices\n",
    "    ppc = pm.sample_posterior_predictive(trace_g, samples=1000, model=model_g)\n",
    "    a = np.asarray(ppc['y'])\n",
    "    bart_post = np.asmatrix(a) \n",
    "    \n",
    "    ## store synthetic values in a matrix\n",
    "    new = np.apply_along_axis(np.mean, 1, bart_post) # 1 is the row; repeating\n",
    "    #this is n rows and 1 column\n",
    "    synth_vals[:, i] = new"
   ]
  },
  {
   "cell_type": "code",
   "execution_count": 110,
   "metadata": {},
   "outputs": [
    {
     "data": {
      "text/plain": [
       "array([[0.77734088, 0.85707077, 0.83715353, ..., 0.8548739 , 0.85396474,\n",
       "        0.83949778],\n",
       "       [0.88182095, 0.88253912, 0.87239719, ..., 0.84580355, 0.8575846 ,\n",
       "        0.88665266],\n",
       "       [0.88031033, 0.80290131, 0.90038666, ..., 0.78570517, 0.8488702 ,\n",
       "        0.83297051],\n",
       "       ...,\n",
       "       [0.81233208, 0.79371283, 0.79992061, ..., 0.86181146, 0.88373467,\n",
       "        0.89242117],\n",
       "       [0.77367873, 0.84101932, 0.83927048, ..., 0.8831258 , 0.79239947,\n",
       "        0.85870082],\n",
       "       [0.78634335, 0.92991793, 0.85344569, ..., 0.81146095, 0.89893703,\n",
       "        0.82466629]])"
      ]
     },
     "execution_count": 110,
     "metadata": {},
     "output_type": "execute_result"
    }
   ],
   "source": [
    "synth_vals"
   ]
  },
  {
   "cell_type": "code",
   "execution_count": 111,
   "metadata": {},
   "outputs": [
    {
     "data": {
      "text/plain": [
       "(1000, 21)"
      ]
     },
     "execution_count": 111,
     "metadata": {},
     "output_type": "execute_result"
    }
   ],
   "source": [
    "synth_vals.shape"
   ]
  },
  {
   "cell_type": "markdown",
   "metadata": {},
   "source": [
    "The matrix gives a information not only about expected values but also about their uncertainty. We can summarize it to construct an initial view of expected values of `organized_crime_dead` conditional on events where the `navy` participates and specific numbers of `long_guns_seized`."
   ]
  },
  {
   "cell_type": "code",
   "execution_count": 139,
   "metadata": {},
   "outputs": [
    {
     "data": {
      "image/png": "[encoded data removed]",
      "text/plain": [
       "<Figure size 432x288 with 1 Axes>"
      ]
     },
     "metadata": {
      "needs_background": "light"
     },
     "output_type": "display_data"
    }
   ],
   "source": [
    "guns = pd.Series(range(21), name = 'guns')\n",
    "mean_vals = pd.Series(np.apply_along_axis(np.mean, 0, synth_vals), name = \"mean_vals\")\n",
    "lo_ci = pd.Series(np.apply_along_axis(np.quantile, 0, synth_vals, q = 0.025), name = \"lo_ci\")\n",
    "hi_ci = pd.Series(np.apply_along_axis(np.quantile, 0, synth_vals, q = 0.975), name = \"hi_ci\")\n",
    "\n",
    "\n",
    "\n",
    "#Plot\n",
    "plt.figure(figsize=(8,8))\n",
    "plt.plot(guns,mean_vals,lw=4)\n",
    "plt.plot(guns,lo_ci,lw=4)\n",
    "plt.plot(guns,hi_ci,lw=4)\n",
    "\n",
    "plt.ylim(0.5,1)\n",
    "\n",
    "plt.fill_between(guns, mean_vals, lo_ci, color = 'k', alpha = .5)\n",
    "plt.fill_between(guns, mean_vals, hi_ci, color = 'k', alpha= .5)\n",
    "\n",
    "plt.xlim(0, 20)\n",
    "ax.set_xlabel('long_guns_seized')\n",
    "ax.set_ylabel('expected organized crime deaths')\n",
    "ax.grid()"
   ]
  },
  {
   "cell_type": "markdown",
   "metadata": {},
   "source": [
    "![synthetics-1.png](synthetics-1.png 'synthetics-1.png')\n",
    "\n",
    "To get a comparable estimate to the marginal effect on the **parametric perspective** where we want to quantify the marginal effect of having 5 `long_guns_seized` on the expected number of `organized_crime_dead` in events that involve the `navy`, we can compute the difference between the expected number of `organized_crime_dead` when 4 and 5 `long_guns_seized` exist for events that involve the `navy` and its associated uncertainty. \n",
    "\n",
    "To do that we simply subtract columns for `organized_crime_dead == 4` from the column `organized_crime_dead == 5` in the matrix above, and summarize its mean value and 95% credible intervals. \n",
    "\n",
    "You'll note how small that contibution is:"
   ]
  },
  {
   "cell_type": "code",
   "execution_count": 124,
   "metadata": {},
   "outputs": [
    {
     "name": "stdout",
     "output_type": "stream",
     "text": [
      "0.000000000\n"
     ]
    }
   ],
   "source": [
    "print(\"{:.9f}\".format(np.mean(synth_vals[:, 0] - synth_vals[:, 1])))\n"
   ]
  },
  {
   "cell_type": "code",
   "execution_count": 117,
   "metadata": {},
   "outputs": [
    {
     "name": "stdout",
     "output_type": "stream",
     "text": [
      "-0.107081714\n"
     ]
    }
   ],
   "source": [
    "print(\"{:.9f}\".format(np.quantile((synth_vals[:, 6] - synth_vals[:, 5]), q = 0.025)))"
   ]
  },
  {
   "cell_type": "code",
   "execution_count": 118,
   "metadata": {},
   "outputs": [
    {
     "name": "stdout",
     "output_type": "stream",
     "text": [
      "0.091194164\n"
     ]
    }
   ],
   "source": [
    "print(\"{:.9f}\".format(np.quantile((synth_vals[:, 6] - synth_vals[:, 5]), q = 0.9725)))"
   ]
  },
  {
   "cell_type": "code",
   "execution_count": null,
   "metadata": {},
   "outputs": [],
   "source": []
  },
  {
   "cell_type": "code",
   "execution_count": null,
   "metadata": {},
   "outputs": [],
   "source": []
  }
 ],
 "metadata": {
  "kernelspec": {
   "display_name": "Python 3",
   "language": "python",
   "name": "python3"
  },
  "language_info": {
   "codemirror_mode": {
    "name": "ipython",
    "version": 3
   },
   "file_extension": ".py",
   "mimetype": "text/x-python",
   "name": "python",
   "nbconvert_exporter": "python",
   "pygments_lexer": "ipython3",
   "version": "3.7.4"
  }
 },
 "nbformat": 4,
 "nbformat_minor": 2
}
